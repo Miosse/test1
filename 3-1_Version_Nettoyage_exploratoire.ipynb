{
 "cells": [
  {
   "cell_type": "markdown",
   "metadata": {},
   "source": [
    "# Projet 3 - Moteur de Recommandations de films\n",
    "# Nettoyage des Données\n",
    "# Partie Exploratoire"
   ]
  },
  {
   "cell_type": "markdown",
   "metadata": {},
   "source": [
    "## Import des Librairies"
   ]
  },
  {
   "cell_type": "code",
   "execution_count": 1,
   "metadata": {},
   "outputs": [],
   "source": [
    "import numpy as np\n",
    "import pandas as pd\n",
    "import matplotlib.pyplot as plt"
   ]
  },
  {
   "cell_type": "code",
   "execution_count": 2,
   "metadata": {},
   "outputs": [],
   "source": [
    "from mes_fonctions import *"
   ]
  },
  {
   "cell_type": "markdown",
   "metadata": {},
   "source": [
    "## Import du fichier"
   ]
  },
  {
   "cell_type": "code",
   "execution_count": 3,
   "metadata": {},
   "outputs": [],
   "source": [
    "datas_raw = pd.read_csv('movie_metadata.csv')"
   ]
  },
  {
   "cell_type": "markdown",
   "metadata": {},
   "source": [
    "## Premieres Infos"
   ]
  },
  {
   "cell_type": "markdown",
   "metadata": {},
   "source": [
    "### Synthèse Infos\n",
    "1. Les colonnes initiales\n",
    "       'color', 'director_name', 'num_critic_for_reviews', 'duration',\n",
    "       'director_facebook_likes', 'actor_3_facebook_likes', 'actor_2_name',\n",
    "       'actor_1_facebook_likes', 'gross', 'genres', 'actor_1_name',\n",
    "       'movie_title', 'num_voted_users', 'cast_total_facebook_likes',\n",
    "       'actor_3_name', 'facenumber_in_poster', 'plot_keywords',\n",
    "       'movie_imdb_link', 'num_user_for_reviews', 'language', 'country',\n",
    "       'content_rating', 'budget', 'title_year', 'actor_2_facebook_likes',\n",
    "       'imdb_score', 'aspect_ratio', 'movie_facebook_likes'\n",
    "       \n",
    "2. Descriptions des colonnes\n",
    "\n",
    "    - color : color / Black & White -> ['Color', nan, ' Black and White']\n",
    "    - movie_title : titre du film\n",
    "    - country : pays de diffusion / exploitation ???\n",
    "    - language : langue du film\n",
    "    - title_year : année du film -> 1916 / 2016\n",
    "    - budget : budget du film\n",
    "    - gross : recette brute\n",
    "    - aspect_ratio : aspect de diffusion du film -> 23 diff \n",
    "    - imdb_score : note imdb -> 1.6 / 9.5\n",
    "    - movie_imdb_link : lien imdb\n",
    "    - genres : genre du film séparé par des |\n",
    "    - num_critic_for_reviews : nombre de critique en commentaires\n",
    "    - num_user_for_reviews : nb d'utilisers à commenter\n",
    "    - num_voted_users : nb de votant du film\n",
    "    - content_rating : label / interdiction ages -> \n",
    "    ['PG-13', nan, 'PG', 'G', 'R', 'TV-14', 'TV-PG', 'TV-MA', 'TV-G',\n",
    "       'Not Rated', 'Unrated', 'Approved', 'TV-Y', 'NC-17', 'X', 'TV-Y7',\n",
    "       'GP', 'Passed', 'M']\n",
    "    - plot_keywords : mots clefs du film\n",
    "    - duration : durée du film en minutes -> valeur min ok 7 / 511 valeur max (série) \n",
    "    - facenumber_in_poster : nb de personnages sur l'affiche -> 0 / 31 : semble ok\n",
    "    - movie_facebook_likes : nb de like du film -> commence à 0 (attention à cette valeur) / max : 349000 Interstellar (ok)\n",
    "\n",
    "    - director_name : Nom \n",
    "    - director_facebook_likes : nb de like facebook du director\n",
    "\n",
    "    - actor_1_name : nom acteur1\n",
    "    - actor_1_facebook_likes : nb like actor1\n",
    "\n",
    "    - actor_2_name : nom acteur2\n",
    "    - actor_2_facebook_likes : nb like actor2\n",
    "\n",
    "    - actor_3_name : nom acteur3\n",
    "    - actor_3_facebook_likes : nb like actor3\n",
    "\n",
    "    - cast_total_facebook_likes : nb de like total des acteurs\n",
    "    "
   ]
  },
  {
   "cell_type": "markdown",
   "metadata": {},
   "source": [
    "# Création des Identifiant des Films"
   ]
  },
  {
   "cell_type": "code",
   "execution_count": 4,
   "metadata": {},
   "outputs": [],
   "source": [
    "import re\n",
    "def get_id(value):\n",
    "    m = re.search('(?<=tt)[0-9]*$', value.split('/')[4])\n",
    "    return int(m.group(0))\n",
    "\n",
    "datas_raw['id'] = datas_raw['movie_imdb_link'].apply(get_id)"
   ]
  },
  {
   "cell_type": "markdown",
   "metadata": {},
   "source": [
    "## On va réordonner les colonnes pour une question de lisibilité\n",
    "> en regroupant les infos proches"
   ]
  },
  {
   "cell_type": "code",
   "execution_count": 5,
   "metadata": {},
   "outputs": [],
   "source": [
    "l_columns = ['id', \n",
    " 'movie_title',\n",
    " 'title_year',\n",
    " 'imdb_score',\n",
    " 'content_rating',\n",
    " 'duration',\n",
    " 'aspect_ratio',\n",
    " 'color',\n",
    " 'movie_imdb_link',\n",
    " 'budget',\n",
    " 'gross',\n",
    " 'language',\n",
    " 'country',\n",
    " 'facenumber_in_poster',\n",
    " 'genres',\n",
    " 'plot_keywords',\n",
    " 'num_critic_for_reviews',\n",
    " 'num_voted_users',\n",
    " 'num_user_for_reviews',\n",
    " 'director_name',\n",
    " 'director_facebook_likes',\n",
    " 'actor_1_name',\n",
    " 'actor_1_facebook_likes',\n",
    " 'actor_2_name',\n",
    " 'actor_2_facebook_likes',\n",
    " 'actor_3_name',\n",
    " 'actor_3_facebook_likes',\n",
    " 'movie_facebook_likes',\n",
    " 'cast_total_facebook_likes']"
   ]
  },
  {
   "cell_type": "code",
   "execution_count": 6,
   "metadata": {},
   "outputs": [],
   "source": [
    "datas_raw = datas_raw[l_columns]"
   ]
  },
  {
   "cell_type": "markdown",
   "metadata": {},
   "source": [
    "## Doublons sur les ID"
   ]
  },
  {
   "cell_type": "markdown",
   "metadata": {},
   "source": [
    "> Il y a une différence sur le nom d'un acteur3, sinon les différences pour ces valeurs se situent au niveau des nombres (de likes / votes ou commentaires ) \n",
    ">\n",
    "> Considérons que moins de 1% de différence et nous prenons la donnée qui semble la plus récente (le max)\n"
   ]
  },
  {
   "cell_type": "code",
   "execution_count": 7,
   "metadata": {},
   "outputs": [],
   "source": [
    "def analyse_diff_values_by_serie(m_serie, taux_diff_max=0.01):\n",
    "    '''Fonction qui renvoie le max si la différence min-max \n",
    "    est inférieure au taux fixé (par défaut 1%)\n",
    "    INPUT: \n",
    "        - m_serie : la série à traiter\n",
    "        - taux_diff_max (optionnel : par défaut 0.01) le taux maximum accepté\n",
    "    OUTPUT:\n",
    "        - True / False : état de l'analyse -- si la différence est inférieur au taux max\n",
    "        - valeur maximum : valeur maximum de la série\n",
    "        - message_error\n",
    "    '''\n",
    "    mmin = m_serie.min()\n",
    "    mmax = m_serie.max()\n",
    "    if mmax==0:\n",
    "        return (False,0, 'mmax == 0')\n",
    "    taux_diff = 1 - mmin/mmax\n",
    "    if (taux_diff<taux_diff_max):\n",
    "        return (True, mmax,'')\n",
    "    else:\n",
    "        error_msg = 'Nous avons ici mmin = {mmin} -- mmax = {mmax}'.format(mmin=mmin, mmax=mmax)\n",
    "        return (False, mmin, error_msg)"
   ]
  },
  {
   "cell_type": "code",
   "execution_count": 8,
   "metadata": {},
   "outputs": [],
   "source": [
    "def set_value_for_id_and_col(m_dataframe, col_name, m_id, value):\n",
    "    '''Fonction qui modifie le dataframe en mettant la valeur 'value' \n",
    "    dans le colonne 'col_name' pour l'id 'm_id' \n",
    "    '''\n",
    "    m_dataframe_idx = m_dataframe[m_dataframe['id']==m_id].index\n",
    "    m_dataframe.loc[m_dataframe_idx, col_name] = value"
   ]
  },
  {
   "cell_type": "markdown",
   "metadata": {},
   "source": [
    "## On supprime les doublons qui n'ont aucune différence dans les colonnes"
   ]
  },
  {
   "cell_type": "code",
   "execution_count": 9,
   "metadata": {},
   "outputs": [],
   "source": [
    "def suppress_doublon_id(m_dataframe, id):\n",
    "    '''Fonction qui supprime les doublons de lignes ayant le même id\n",
    "    INPUT: \n",
    "        - m_dataframe \n",
    "        - id\n",
    "    INFORMATION:\n",
    "        On supprime les lignes autres que la 1e \n",
    "    '''\n",
    "    idx = m_dataframe[m_dataframe['id']==id].index\n",
    "    idx_min = idx.min()\n",
    "\n",
    "    for idxx in idx:\n",
    "        if (idxx!=idx_min):\n",
    "            ###print(\"ID {ID} -> on supprime la ligne d'index {idx}\".format(ID=id, idx=idxx))\n",
    "            m_dataframe.drop(index=idxx,axis=0,inplace=True)"
   ]
  },
  {
   "cell_type": "code",
   "execution_count": 10,
   "metadata": {},
   "outputs": [],
   "source": [
    "def traite_difference_une_colonne_by_id(m_dataframe, id, col_name, taux_diff_max):\n",
    "        # S'il ne reste pas de doute sur les données restante\n",
    "        #   on renvoie True sinon False (pour ne pas supprimer la donnée)\n",
    "        m_serie = m_dataframe[m_dataframe['id']==id][col_name]\n",
    "        \n",
    "        # Nombre de valeurs différentes\n",
    "        n_diff = m_serie.nunique()\n",
    "        \n",
    "        if n_diff>0:\n",
    "            # Si on des valeurs nulles et d'autres non nulle \n",
    "            if n_diff==1:\n",
    "                # On a une seule valeur (quantitative ou qualitative)\n",
    "                # -> On remplace les valeurs nulle par celle non nulle\n",
    "                value = m_serie[m_serie.notnull()].unique()[0]\n",
    "                set_value_for_id_and_col(m_dataframe, col_name, id, value )\n",
    "                return True\n",
    "            else:\n",
    "                # On a plusieurs valeurs : \n",
    "                # Si on est dans les colonnes quantitatives :\n",
    "                #   - on va modifier si diff min/max est inférieur au taux\n",
    "                if col_name in ['actor_1_facebook_likes', 'cast_total_facebook_likes', \n",
    "                                'num_voted_users', 'actor_3_facebook_likes', \n",
    "                                'actor_2_facebook_likes', 'num_user_for_reviews']:\n",
    "                    etat, value, msg = analyse_diff_values_by_serie(m_serie, taux_diff_max)\n",
    "                    if etat==False:\n",
    "                        # S'il y a une différence supérieur au taux fixé on ne fait rien mais on affiche\n",
    "                        #print('--------\\n-- ERREUR sur {id} -- col : {col} -- {msg}\\n--------'\\\n",
    "                        #      .format(id=id, col=col_name, msg=msg))\n",
    "                        print('-- ERREUR sur {id} -- col : {col} -- {msg}'\\\n",
    "                              .format(id=id, col=col_name, msg=msg))\n",
    "                        return False\n",
    "                    else:\n",
    "                        # Sinon on utilise la plus grande des valeurs pour toutes les lignes\n",
    "                        set_value_for_id_and_col(m_dataframe, col_name, id, value )\n",
    "                        return True\n",
    "                else:\n",
    "                    # On a plusieurs valeur qualitative : on ne peut rien faire\n",
    "                    print('\\t-> Difference ID : {ID} - Colonne {col}'.format(ID=id, col=col_name))\n",
    "                    return False\n",
    "        else:\n",
    "            # Toutes les valeurs sont vides on peut supprimer les doublons\n",
    "            return True"
   ]
  },
  {
   "cell_type": "code",
   "execution_count": 11,
   "metadata": {},
   "outputs": [],
   "source": [
    "def traite_doublons_id(m_dataframe, taux_diff_max=0.01):\n",
    "    # On identifie les id en doublons\n",
    "    u = m_dataframe.groupby(['id']).size().reset_index(name='Freq')\n",
    "    print(\"DEBUT : Nous avons {} id différents avec des doublons \".format(sum(u['Freq']>1)))\n",
    "    \n",
    "    # On va devoir analyser où se trouve la différence entre les lignes pour toutes ces données\n",
    "    m_dataframe_doublon = u[u['Freq']>1]\n",
    "\n",
    "    \n",
    "                        \n",
    "    # On parcourt l'ensemble des id en doublons\n",
    "    for id in m_dataframe_doublon['id'].values:\n",
    "        # on fabrique un dataframe temporaire\n",
    "        m_df_tmp = m_dataframe[m_dataframe['id']==id]\n",
    "        id_supprimable = True \n",
    "        \n",
    "        for col in m_df_tmp.columns:\n",
    "            # On parcourt toutes les colonnes pour cet id\n",
    "            b_res = traite_difference_une_colonne_by_id(m_dataframe=m_dataframe, \n",
    "                                                  id=id, \n",
    "                                                  col_name=col, \n",
    "                                                  taux_diff_max=taux_diff_max)\n",
    "            id_supprimable = id_supprimable & b_res\n",
    "\n",
    "        # Si aucune colonne ne pose problème \n",
    "        # -> on supprime les doublons de cet id\n",
    "        if (id_supprimable):\n",
    "            # Toutes les colonnes sont identiques : \n",
    "            # -> on supprime une des lignes de cet id\n",
    "            suppress_doublon_id(m_dataframe, id)\n",
    "    \n",
    "    u = m_dataframe.groupby(['id']).size().reset_index(name='Freq')\n",
    "    print(\"FIN : Il reste {} id différents avec des doublons \".format(sum(u['Freq']>1)))"
   ]
  },
  {
   "cell_type": "code",
   "execution_count": 12,
   "metadata": {},
   "outputs": [
    {
     "name": "stdout",
     "output_type": "stream",
     "text": [
      "DEBUT : Nous avons 117 id différents avec des doublons \n",
      "-- ERREUR sur 360139 -- col : cast_total_facebook_likes -- Nous avons ici mmin = 829 -- mmax = 842\n",
      "\t-> Difference ID : 765010 - Colonne actor_3_name\n",
      "-- ERREUR sur 765010 -- col : actor_3_facebook_likes -- Nous avons ici mmin = 1000.0 -- mmax = 3000.0\n",
      "-- ERREUR sur 765010 -- col : cast_total_facebook_likes -- Nous avons ici mmin = 39473 -- mmax = 42473\n",
      "-- ERREUR sur 1343092 -- col : actor_3_facebook_likes -- Nous avons ici mmin = 76.0 -- mmax = 77.0\n",
      "\t-> Difference ID : 2638144 - Colonne imdb_score\n",
      "-- ERREUR sur 2638144 -- col : num_voted_users -- Nous avons ici mmin = 57 -- mmax = 67\n",
      "-- ERREUR sur 3332064 -- col : actor_2_facebook_likes -- Nous avons ici mmin = 548.0 -- mmax = 559.0\n",
      "FIN : Il reste 5 id différents avec des doublons \n"
     ]
    }
   ],
   "source": [
    "traite_doublons_id(datas_raw, taux_diff_max=0.01)"
   ]
  },
  {
   "cell_type": "markdown",
   "metadata": {},
   "source": [
    "> Nous voyons qu'il y a des différences sur des valeurs\n",
    "> quantitatives un peu plus importantes que 1% mais en dessous de 20%\n",
    "> \n",
    "> Elles sont en nombre restreint : nous allons les modifier"
   ]
  },
  {
   "cell_type": "code",
   "execution_count": 13,
   "metadata": {},
   "outputs": [
    {
     "name": "stdout",
     "output_type": "stream",
     "text": [
      "DEBUT : Nous avons 5 id différents avec des doublons \n",
      "\t-> Difference ID : 765010 - Colonne actor_3_name\n",
      "-- ERREUR sur 765010 -- col : actor_3_facebook_likes -- Nous avons ici mmin = 1000.0 -- mmax = 3000.0\n",
      "\t-> Difference ID : 2638144 - Colonne imdb_score\n",
      "FIN : Il reste 2 id différents avec des doublons \n"
     ]
    }
   ],
   "source": [
    "traite_doublons_id(datas_raw, taux_diff_max=0.2)"
   ]
  },
  {
   "cell_type": "markdown",
   "metadata": {},
   "source": [
    "> Nous avons une donnée qui pose souci : id = 2638144\n",
    "> \n",
    "> Avec une différences sur : imdb_score"
   ]
  },
  {
   "cell_type": "code",
   "execution_count": 14,
   "metadata": {},
   "outputs": [
    {
     "data": {
      "text/html": [
       "<div>\n",
       "<style scoped>\n",
       "    .dataframe tbody tr th:only-of-type {\n",
       "        vertical-align: middle;\n",
       "    }\n",
       "\n",
       "    .dataframe tbody tr th {\n",
       "        vertical-align: top;\n",
       "    }\n",
       "\n",
       "    .dataframe thead th {\n",
       "        text-align: right;\n",
       "    }\n",
       "</style>\n",
       "<table border=\"1\" class=\"dataframe\">\n",
       "  <thead>\n",
       "    <tr style=\"text-align: right;\">\n",
       "      <th></th>\n",
       "      <th>367</th>\n",
       "      <th>2613</th>\n",
       "      <th>3967</th>\n",
       "    </tr>\n",
       "  </thead>\n",
       "  <tbody>\n",
       "    <tr>\n",
       "      <th>movie_title</th>\n",
       "      <td>Ben-Hur</td>\n",
       "      <td>Ben-Hur</td>\n",
       "      <td>Ben-Hur</td>\n",
       "    </tr>\n",
       "    <tr>\n",
       "      <th>imdb_score</th>\n",
       "      <td>6.1</td>\n",
       "      <td>6.1</td>\n",
       "      <td>6</td>\n",
       "    </tr>\n",
       "    <tr>\n",
       "      <th>title_year</th>\n",
       "      <td>2016</td>\n",
       "      <td>2016</td>\n",
       "      <td>2016</td>\n",
       "    </tr>\n",
       "  </tbody>\n",
       "</table>\n",
       "</div>"
      ],
      "text/plain": [
       "                 367       2613      3967\n",
       "movie_title  Ben-Hur   Ben-Hur   Ben-Hur \n",
       "imdb_score        6.1       6.1         6\n",
       "title_year       2016      2016      2016"
      ]
     },
     "execution_count": 14,
     "metadata": {},
     "output_type": "execute_result"
    }
   ],
   "source": [
    "datas_raw[datas_raw['id']==2638144][['movie_title', 'imdb_score', 'title_year']].T"
   ]
  },
  {
   "cell_type": "code",
   "execution_count": 15,
   "metadata": {},
   "outputs": [],
   "source": [
    "# Nous allons uniquement garder la valeur qui est en double soit 6.1\n",
    "# C'est le cas : On supprime manuellement les indexes 367 et 3967\n",
    "datas_raw.drop(index=367,axis=0,inplace=True)\n",
    "datas_raw.drop(index=3967,axis=0,inplace=True)"
   ]
  },
  {
   "cell_type": "markdown",
   "metadata": {},
   "source": [
    "> Analyse de l'autre données en double: id = 765010\n",
    ">\n",
    "> Nous avons les données : 'actor_3_name', 'actor_3_facebook_likes' différentes"
   ]
  },
  {
   "cell_type": "code",
   "execution_count": 16,
   "metadata": {},
   "outputs": [
    {
     "data": {
      "text/html": [
       "<div>\n",
       "<style scoped>\n",
       "    .dataframe tbody tr th:only-of-type {\n",
       "        vertical-align: middle;\n",
       "    }\n",
       "\n",
       "    .dataframe tbody tr th {\n",
       "        vertical-align: top;\n",
       "    }\n",
       "\n",
       "    .dataframe thead th {\n",
       "        text-align: right;\n",
       "    }\n",
       "</style>\n",
       "<table border=\"1\" class=\"dataframe\">\n",
       "  <thead>\n",
       "    <tr style=\"text-align: right;\">\n",
       "      <th></th>\n",
       "      <th>1852</th>\n",
       "      <th>2882</th>\n",
       "    </tr>\n",
       "  </thead>\n",
       "  <tbody>\n",
       "    <tr>\n",
       "      <th>movie_title</th>\n",
       "      <td>Brothers</td>\n",
       "      <td>Brothers</td>\n",
       "    </tr>\n",
       "    <tr>\n",
       "      <th>actor_3_name</th>\n",
       "      <td>Bailee Madison</td>\n",
       "      <td>Ethan Suplee</td>\n",
       "    </tr>\n",
       "    <tr>\n",
       "      <th>actor_3_facebook_likes</th>\n",
       "      <td>3000</td>\n",
       "      <td>1000</td>\n",
       "    </tr>\n",
       "  </tbody>\n",
       "</table>\n",
       "</div>"
      ],
      "text/plain": [
       "                                  1852          2882\n",
       "movie_title                  Brothers      Brothers \n",
       "actor_3_name            Bailee Madison  Ethan Suplee\n",
       "actor_3_facebook_likes            3000          1000"
      ]
     },
     "execution_count": 16,
     "metadata": {},
     "output_type": "execute_result"
    }
   ],
   "source": [
    "datas_raw[datas_raw['id']==765010][['movie_title', 'actor_3_name', 'actor_3_facebook_likes']].T"
   ]
  },
  {
   "cell_type": "code",
   "execution_count": 17,
   "metadata": {},
   "outputs": [],
   "source": [
    "# l'acteur3 a été changé\n",
    "# on va supprimer la ligne ayant l'acteur qui a le moins de like entre les 2\n",
    "datas_raw.drop(index=2882,axis=0,inplace=True)"
   ]
  },
  {
   "cell_type": "code",
   "execution_count": 18,
   "metadata": {},
   "outputs": [
    {
     "name": "stdout",
     "output_type": "stream",
     "text": [
      "DEBUT : Nous avons 0 id différents avec des doublons \n",
      "FIN : Il reste 0 id différents avec des doublons \n"
     ]
    }
   ],
   "source": [
    "# Encore une vérification mais nous ne devons plus avoir de doublons d'id\n",
    "traite_doublons_id(datas_raw, taux_diff_max=0.01)"
   ]
  },
  {
   "cell_type": "markdown",
   "metadata": {},
   "source": [
    "# Gestion des personnes\n",
    "> On fabrique un dataframe avec les noms des personnes (acteurs et réalisateurs)"
   ]
  },
  {
   "cell_type": "code",
   "execution_count": 19,
   "metadata": {},
   "outputs": [],
   "source": [
    "def fabrication_personns():\n",
    "    df1 = datas_raw[['actor_1_name','actor_1_facebook_likes']]\n",
    "    df2 = datas_raw[['actor_2_name','actor_2_facebook_likes']]\n",
    "    df3 = datas_raw[['actor_3_name','actor_3_facebook_likes']]\n",
    "    df4 = datas_raw[['director_name','director_facebook_likes']]\n",
    "\n",
    "    df1.columns = ['nom','facebook_likes']\n",
    "    df2.columns = ['nom','facebook_likes']\n",
    "    df3.columns = ['nom','facebook_likes']\n",
    "    df4.columns = ['nom','facebook_likes']\n",
    "\n",
    "    personns = pd.concat([df1, df2, df3, df4],keys=['actor_1', 'actor_2', 'actor_3', 'director'])\n",
    "    return personns"
   ]
  },
  {
   "cell_type": "code",
   "execution_count": 20,
   "metadata": {},
   "outputs": [],
   "source": [
    "personns = fabrication_personns()"
   ]
  },
  {
   "cell_type": "markdown",
   "metadata": {},
   "source": [
    "# Verification des nombres de likes différents"
   ]
  },
  {
   "cell_type": "code",
   "execution_count": 21,
   "metadata": {},
   "outputs": [],
   "source": [
    "def set_value_for_nom_and_col(m_dataframe, col_name, m_nom, value):\n",
    "    '''Fonction qui modifie le dataframe en mettant la valeur 'value' \n",
    "    dans le colonne 'col_name' pour l'id 'm_id' \n",
    "    '''\n",
    "    m_dataframe_idx = m_dataframe[m_dataframe['nom']==m_nom].index\n",
    "    m_dataframe.loc[m_dataframe_idx, col_name] = value"
   ]
  },
  {
   "cell_type": "code",
   "execution_count": 22,
   "metadata": {},
   "outputs": [],
   "source": [
    "def traite_difference_une_colonne_by_nom(m_dataframe, nom, col_name, taux_diff_max):\n",
    "        # S'il ne reste pas de doute sur les données restante\n",
    "        #   on renvoie True sinon False (pour ne pas supprimer la donnée)\n",
    "        m_serie = m_dataframe[m_dataframe['nom']==nom][col_name]\n",
    "        \n",
    "        # Nombre de valeurs différentes\n",
    "        n_diff = m_serie.nunique()\n",
    "        \n",
    "        if n_diff>0:\n",
    "            # Si on des valeurs nulles et d'autres non nulle \n",
    "            if n_diff==1:\n",
    "                # On a une seule valeur (quantitative ou qualitative)\n",
    "                # -> On remplace les valeurs nulle par celle non nulle\n",
    "                value = m_serie[m_serie.notnull()].unique()[0]\n",
    "                set_value_for_nom_and_col(m_dataframe, col_name, nom, value )\n",
    "                return True\n",
    "            else:\n",
    "                # On a plusieurs valeurs : \n",
    "                # Si on est dans les colonnes quantitatives :\n",
    "                #   - on va modifier si diff min/max est inférieur au taux\n",
    "                if col_name in ['facebook_likes']:\n",
    "                    etat, value, msg = analyse_diff_values_by_serie(m_serie, taux_diff_max)\n",
    "                    if etat==False:\n",
    "                        # S'il y a une différence supérieur au taux fixé on ne fait rien mais on affiche\n",
    "                        #print('--------\\n-- ERREUR sur {id} -- col : {col} -- {msg}\\n--------'\\\n",
    "                        #      .format(id=id, col=col_name, msg=msg))\n",
    "                        print('-- ERREUR sur {nom} -- col : {col} -- {msg}'\\\n",
    "                              .format(nom=nom, col=col_name, msg=msg))\n",
    "                        return False\n",
    "                    else:\n",
    "                        # Sinon on utilise la plus grande des valeurs pour toutes les lignes\n",
    "                        set_value_for_nom_and_col(m_dataframe, col_name, nom, value )\n",
    "                        return True\n",
    "                else:\n",
    "                    # On a plusieurs valeur qualitative : on ne peut rien faire\n",
    "                    print('\\t-> Difference ID : {ID} - Colonne {col}'.format(ID=id, col=col_name))\n",
    "                    return False\n",
    "        else:\n",
    "            # Toutes les valeurs sont vides on peut supprimer les doublons\n",
    "            return True"
   ]
  },
  {
   "cell_type": "code",
   "execution_count": 23,
   "metadata": {},
   "outputs": [],
   "source": [
    "def traite_doublons_nom(m_dataframe, taux_diff_max=0.01):\n",
    "    # On identifie les id en doublons\n",
    "    u = m_dataframe.groupby(['nom','facebook_likes']).size().reset_index(name='Freq')\n",
    "    u = u.groupby(['nom']).size().reset_index(name='Freq2')\n",
    "    print(\"DEBUT : Nous avons {} id différents avec des doublons \".format(sum(u['Freq2']>1)))\n",
    "\n",
    "\n",
    "    # On va devoir analyser où se trouve la différence entre les lignes pour toutes ces données\n",
    "    m_dataframe_doublon = u[u['Freq2']>1]\n",
    "                        \n",
    "    # On parcourt l'ensemble des id en doublons\n",
    "    for nom in m_dataframe_doublon['nom'].values:\n",
    "        # on fabrique un dataframe temporaire\n",
    "        m_df_tmp = m_dataframe[m_dataframe['nom']==nom]\n",
    "        id_supprimable = True \n",
    "        \n",
    "        for col in m_df_tmp.columns:\n",
    "            # On parcourt toutes les colonnes pour cet id\n",
    "            b_res = traite_difference_une_colonne_by_nom(m_dataframe=m_dataframe, \n",
    "                                                  nom=nom, \n",
    "                                                  col_name=col, \n",
    "                                                  taux_diff_max=taux_diff_max)\n",
    "            id_supprimable = id_supprimable & b_res\n",
    "    \n",
    "    u = m_dataframe.groupby(['nom','facebook_likes']).size().reset_index(name='Freq')\n",
    "    u = u.groupby(['nom']).size().reset_index(name='Freq2')\n",
    "    print(\"FIN : Il reste {} id différents avec des doublons \".format(sum(u['Freq2']>1)))"
   ]
  },
  {
   "cell_type": "code",
   "execution_count": 24,
   "metadata": {},
   "outputs": [
    {
     "name": "stdout",
     "output_type": "stream",
     "text": [
      "DEBUT : Nous avons 128 id différents avec des doublons \n",
      "-- ERREUR sur Alan Taylor -- col : facebook_likes -- Nous avons ici mmin = 12.0 -- mmax = 230.0\n",
      "-- ERREUR sur Anne Heche -- col : facebook_likes -- Nous avons ici mmin = 643.0 -- mmax = 695.0\n",
      "-- ERREUR sur Bruce Campbell -- col : facebook_likes -- Nous avons ici mmin = 0.0 -- mmax = 298.0\n",
      "-- ERREUR sur Bruce Greenwood -- col : facebook_likes -- Nous avons ici mmin = 981.0 -- mmax = 991.0\n",
      "-- ERREUR sur Dana Ivey -- col : facebook_likes -- Nous avons ici mmin = 268.0 -- mmax = 271.0\n",
      "-- ERREUR sur Dyan Cannon -- col : facebook_likes -- Nous avons ici mmin = 257.0 -- mmax = 267.0\n",
      "-- ERREUR sur George Miller -- col : facebook_likes -- Nous avons ici mmin = 18.0 -- mmax = 750.0\n",
      "-- ERREUR sur Josie Ho -- col : facebook_likes -- Nous avons ici mmin = 76.0 -- mmax = 77.0\n",
      "-- ERREUR sur Michael Chapman -- col : facebook_likes -- Nous avons ici mmin = 70.0 -- mmax = 366.0\n",
      "-- ERREUR sur Nick Gomez -- col : facebook_likes -- Nous avons ici mmin = 22.0 -- mmax = 347.0\n",
      "-- ERREUR sur Steve Bisley -- col : facebook_likes -- Nous avons ici mmin = 76.0 -- mmax = 77.0\n",
      "-- ERREUR sur Steve James -- col : facebook_likes -- Nous avons ici mmin = 23.0 -- mmax = 96.0\n",
      "FIN : Il reste 12 id différents avec des doublons \n"
     ]
    }
   ],
   "source": [
    "traite_doublons_nom(personns, taux_diff_max=0.01)"
   ]
  },
  {
   "cell_type": "markdown",
   "metadata": {},
   "source": [
    "> On voit que pour plusieurs noms il n'y a que peu de doute sur le nombre facebook qui a évolué\n",
    ">\n",
    "> Même si le pourcentage d'augmentation est plus que 1% (mais moins que 20%)"
   ]
  },
  {
   "cell_type": "code",
   "execution_count": 25,
   "metadata": {},
   "outputs": [
    {
     "name": "stdout",
     "output_type": "stream",
     "text": [
      "DEBUT : Nous avons 12 id différents avec des doublons \n",
      "-- ERREUR sur Alan Taylor -- col : facebook_likes -- Nous avons ici mmin = 12.0 -- mmax = 230.0\n",
      "-- ERREUR sur Bruce Campbell -- col : facebook_likes -- Nous avons ici mmin = 0.0 -- mmax = 298.0\n",
      "-- ERREUR sur George Miller -- col : facebook_likes -- Nous avons ici mmin = 18.0 -- mmax = 750.0\n",
      "-- ERREUR sur Michael Chapman -- col : facebook_likes -- Nous avons ici mmin = 70.0 -- mmax = 366.0\n",
      "-- ERREUR sur Nick Gomez -- col : facebook_likes -- Nous avons ici mmin = 22.0 -- mmax = 347.0\n",
      "-- ERREUR sur Steve James -- col : facebook_likes -- Nous avons ici mmin = 23.0 -- mmax = 96.0\n",
      "FIN : Il reste 6 id différents avec des doublons \n"
     ]
    }
   ],
   "source": [
    "traite_doublons_nom(personns, taux_diff_max=0.2)"
   ]
  },
  {
   "cell_type": "code",
   "execution_count": 26,
   "metadata": {},
   "outputs": [
    {
     "name": "stdout",
     "output_type": "stream",
     "text": [
      "                       nom  facebook_likes\n",
      "actor_2  3923  Alan Taylor            12.0\n",
      "director 109   Alan Taylor           230.0\n",
      "         127   Alan Taylor           230.0\n",
      "                          nom  facebook_likes\n",
      "actor_3  1187  Bruce Campbell           298.0\n",
      "director 4429  Bruce Campbell             0.0\n",
      "                         nom  facebook_likes\n",
      "director 128   George Miller           750.0\n",
      "         175   George Miller           750.0\n",
      "         397   George Miller           750.0\n",
      "         500   George Miller           750.0\n",
      "         3110  George Miller           750.0\n",
      "         3722  George Miller            18.0\n",
      "         4254  George Miller           750.0\n",
      "         4895  George Miller           750.0\n",
      "                           nom  facebook_likes\n",
      "actor_2  4245  Michael Chapman           366.0\n",
      "director 2729  Michael Chapman            70.0\n",
      "                      nom  facebook_likes\n",
      "actor_3  2281  Nick Gomez           347.0\n",
      "director 2566  Nick Gomez            22.0\n",
      "                       nom  facebook_likes\n",
      "actor_2  4817  Steve James            96.0\n",
      "director 3406  Steve James            23.0\n",
      "         4688  Steve James            23.0\n"
     ]
    }
   ],
   "source": [
    "l_noms = ['Alan Taylor', 'Bruce Campbell', 'George Miller', 'Michael Chapman', 'Nick Gomez', 'Steve James']\n",
    "for i_nom in l_noms:\n",
    "    print(personns[personns['nom']==i_nom])"
   ]
  },
  {
   "cell_type": "markdown",
   "metadata": {},
   "source": [
    "> Pour ces 6 noms nous avons des doutes sur les potentiels homonymes\n",
    ">\n",
    "> Après une petite recherche sur Internet nous constatons que \n",
    "> - Alan Taylor\n",
    "> - George Miller\n",
    "> - Michael Chapman\n",
    "> - Steve James\n",
    "> \n",
    "> sont les noms d'acteurs mais aussi de réalisateurs (mais pas les mêmes personnes) \n",
    ">\n",
    "> Nous allons ajouter des mots pour les différencier\n",
    "> en modifiant manuellement\n"
   ]
  },
  {
   "cell_type": "code",
   "execution_count": 27,
   "metadata": {},
   "outputs": [],
   "source": [
    "datas_raw.loc[3923,'actor_2_name'] = 'Alan Taylor (actor)'\n",
    "datas_raw.loc[4429,'director_facebook_likes'] = 298.0\n",
    "datas_raw.loc[3722,'director_name'] = 'George Miller (director1)'\n",
    "datas_raw.loc[2729,'director_name'] = 'Michael Chapman (director)'\n",
    "datas_raw.loc[2566,'director_facebook_likes'] = 347.0\n",
    "datas_raw.loc[4817,'actor_2_name'] = 'Steve James (actor)'"
   ]
  },
  {
   "cell_type": "markdown",
   "metadata": {},
   "source": [
    "> Maintenant que nous avons différencié les homonymes \n",
    "> nous pouvons recommencer le travail et uniformiser les\n",
    "> nombre de like de chaque personne"
   ]
  },
  {
   "cell_type": "code",
   "execution_count": 28,
   "metadata": {},
   "outputs": [
    {
     "name": "stdout",
     "output_type": "stream",
     "text": [
      "DEBUT : Nous avons 122 id différents avec des doublons \n",
      "FIN : Il reste 0 id différents avec des doublons \n"
     ]
    }
   ],
   "source": [
    "personns = fabrication_personns()\n",
    "traite_doublons_nom(personns, taux_diff_max=0.2)"
   ]
  },
  {
   "cell_type": "markdown",
   "metadata": {},
   "source": [
    "> Il reste à mettre à jour le dataframe originel"
   ]
  },
  {
   "cell_type": "code",
   "execution_count": 29,
   "metadata": {},
   "outputs": [],
   "source": [
    "p1 = personns.loc['actor_1']\n",
    "datas_raw.loc[p1.index, 'actor_1_facebook_likes'] = p1['facebook_likes']\n",
    "\n",
    "p2 = personns.loc['actor_2']\n",
    "datas_raw.loc[p2.index, 'actor_2_facebook_likes'] = p2['facebook_likes']\n",
    "\n",
    "p3 = personns.loc['actor_3']\n",
    "datas_raw.loc[p3.index, 'actor_3_facebook_likes'] = p3['facebook_likes']\n",
    "\n",
    "p4 = personns.loc['director']\n",
    "datas_raw.loc[p4.index, 'director_facebook_likes'] = p4['facebook_likes']"
   ]
  },
  {
   "cell_type": "code",
   "execution_count": 30,
   "metadata": {},
   "outputs": [
    {
     "name": "stdout",
     "output_type": "stream",
     "text": [
      "DEBUT : Nous avons 0 id différents avec des doublons \n",
      "FIN : Il reste 0 id différents avec des doublons \n"
     ]
    }
   ],
   "source": [
    "# Une vérification pour la forme \n",
    "personns = fabrication_personns()\n",
    "traite_doublons_nom(personns, taux_diff_max=0.001)"
   ]
  },
  {
   "cell_type": "code",
   "execution_count": null,
   "metadata": {},
   "outputs": [],
   "source": []
  },
  {
   "cell_type": "code",
   "execution_count": null,
   "metadata": {},
   "outputs": [],
   "source": []
  },
  {
   "cell_type": "markdown",
   "metadata": {},
   "source": [
    "# Verifications sur les prenoms mal écrits\n",
    "## On vérifie s'il n'y a pas des erreurs d'écriture des noms\n",
    "> Cela s'avère une fausse piste"
   ]
  },
  {
   "cell_type": "code",
   "execution_count": 31,
   "metadata": {},
   "outputs": [
    {
     "data": {
      "text/html": [
       "<div>\n",
       "<style scoped>\n",
       "    .dataframe tbody tr th:only-of-type {\n",
       "        vertical-align: middle;\n",
       "    }\n",
       "\n",
       "    .dataframe tbody tr th {\n",
       "        vertical-align: top;\n",
       "    }\n",
       "\n",
       "    .dataframe thead th {\n",
       "        text-align: right;\n",
       "    }\n",
       "</style>\n",
       "<table border=\"1\" class=\"dataframe\">\n",
       "  <thead>\n",
       "    <tr style=\"text-align: right;\">\n",
       "      <th></th>\n",
       "      <th></th>\n",
       "      <th>nom</th>\n",
       "      <th>facebook_likes</th>\n",
       "    </tr>\n",
       "  </thead>\n",
       "  <tbody>\n",
       "    <tr>\n",
       "      <th rowspan=\"4\" valign=\"top\">actor_1</th>\n",
       "      <th>0</th>\n",
       "      <td>CCH Pounder</td>\n",
       "      <td>1000.0</td>\n",
       "    </tr>\n",
       "    <tr>\n",
       "      <th>1</th>\n",
       "      <td>Johnny Depp</td>\n",
       "      <td>40000.0</td>\n",
       "    </tr>\n",
       "    <tr>\n",
       "      <th>2</th>\n",
       "      <td>Christoph Waltz</td>\n",
       "      <td>11000.0</td>\n",
       "    </tr>\n",
       "    <tr>\n",
       "      <th>3</th>\n",
       "      <td>Tom Hardy</td>\n",
       "      <td>27000.0</td>\n",
       "    </tr>\n",
       "  </tbody>\n",
       "</table>\n",
       "</div>"
      ],
      "text/plain": [
       "                       nom  facebook_likes\n",
       "actor_1 0      CCH Pounder          1000.0\n",
       "        1      Johnny Depp         40000.0\n",
       "        2  Christoph Waltz         11000.0\n",
       "        3        Tom Hardy         27000.0"
      ]
     },
     "execution_count": 31,
     "metadata": {},
     "output_type": "execute_result"
    }
   ],
   "source": [
    "personns[:4]"
   ]
  },
  {
   "cell_type": "code",
   "execution_count": 32,
   "metadata": {},
   "outputs": [],
   "source": [
    "def get_name_shortName(complete_name):\n",
    "    if type(complete_name)==float:\n",
    "        return (np.nan, np.nan)\n",
    "    \n",
    "    name_l = complete_name.split(' ')\n",
    "    short_name = name_l[0]\n",
    "    name_l.remove(short_name)\n",
    "    name = ' '.join(name_l)\n",
    "    \n",
    "    if name=='':\n",
    "        name = short_name\n",
    "        short_name = ''\n",
    "        \n",
    "    return (name, short_name)\n",
    "    "
   ]
  },
  {
   "cell_type": "code",
   "execution_count": 33,
   "metadata": {},
   "outputs": [],
   "source": [
    "personns['nom_f'] = personns['nom'].apply(lambda x: get_name_shortName(x)[0])\n",
    "personns['prenom'] = personns['nom'].apply(lambda x: get_name_shortName(x)[1])"
   ]
  },
  {
   "cell_type": "code",
   "execution_count": 34,
   "metadata": {},
   "outputs": [],
   "source": [
    "u2 = personns.groupby(['nom_f', 'prenom']).agg(len).groupby(['nom_f']).agg(len)"
   ]
  },
  {
   "cell_type": "code",
   "execution_count": 35,
   "metadata": {},
   "outputs": [],
   "source": [
    "tmp = personns.groupby(['nom_f', 'prenom'])['nom_f', 'prenom'].agg(len).groupby(['nom_f']).agg(len)"
   ]
  },
  {
   "cell_type": "code",
   "execution_count": 36,
   "metadata": {},
   "outputs": [],
   "source": [
    "tmp = personns.groupby(['nom_f', 'prenom'])['nom_f', 'prenom'].size()\\\n",
    "    .reset_index(name='Freq')\\\n",
    "    .groupby(['nom_f'])['nom_f'].size().reset_index(name='Freq2')\n",
    "\n",
    "tmp = tmp[tmp['Freq2']>1]"
   ]
  },
  {
   "cell_type": "code",
   "execution_count": 37,
   "metadata": {},
   "outputs": [
    {
     "data": {
      "text/plain": [
       "array([['Aaron', 2],\n",
       "       ['Abraham', 2],\n",
       "       ['Ackles', 2],\n",
       "       ...,\n",
       "       ['Zito', 2],\n",
       "       ['Zucker', 3],\n",
       "       ['Zwick', 2]], dtype=object)"
      ]
     },
     "execution_count": 37,
     "metadata": {},
     "output_type": "execute_result"
    }
   ],
   "source": [
    "tmp.values"
   ]
  },
  {
   "cell_type": "code",
   "execution_count": 38,
   "metadata": {},
   "outputs": [],
   "source": [
    "## La liste des potentielles erreur sur les prenom pour les noms est : \n",
    "dict_nom = {}\n",
    "for i in tmp.values:\n",
    "    u = personns[personns['nom_f']==i[0]]['prenom']\n",
    "    nom_tmp = i[0]\n",
    "    p_tmp = list(set(u.values))\n",
    "    l_prenom = []\n",
    "    for j in p_tmp:\n",
    "        prenom_tmp = j\n",
    "        for v in p_tmp:\n",
    "            if v!=prenom_tmp:\n",
    "                distance = sum([1 for x, y in zip(prenom_tmp, v) if x.lower() != y.lower()])\n",
    "                if distance<2:\n",
    "                    #print(\"Attention pour le nom ({}) - prénom1 ({}) - prénom2 ({})\"\\\n",
    "                    #      .format(nom_tmp, prenom_tmp, v))\n",
    "                    l_prenom.append(prenom_tmp)\n",
    "        if (len(l_prenom)!=0):\n",
    "            l_prenom = list(set(l_prenom))\n",
    "            dict_nom[nom_tmp] = l_prenom\n",
    "            "
   ]
  },
  {
   "cell_type": "code",
   "execution_count": 39,
   "metadata": {},
   "outputs": [
    {
     "data": {
      "text/plain": [
       "{'Adams': ['Claire', 'Jane', 'CJ', 'Jay'],\n",
       " 'Anderson': ['Pamela', 'Sam'],\n",
       " 'Atkins': ['Chris', 'Christopher'],\n",
       " 'Aviles': ['Rick', 'Vic'],\n",
       " 'Brooks': ['Mehcad', 'Mel'],\n",
       " 'Brown': ['Brianna', 'Bryan', 'Rob', 'Bobby'],\n",
       " 'Burke': ['Billy', 'Billie'],\n",
       " 'Capra': ['Francis', 'Frank'],\n",
       " 'Cassidy': ['Joanna', 'Joe'],\n",
       " 'Chang': ['Chin-Chien', 'Chen'],\n",
       " 'Clarke': ['Dameon', 'Cam'],\n",
       " 'Cooper': ['Garry', 'Gary'],\n",
       " 'Cox': ['Chris', 'Christina'],\n",
       " 'Cross': ['Ben', 'Kendrick', 'Joseph', 'Joe'],\n",
       " 'Davis': ['Ossie', 'Essie'],\n",
       " 'Divine': ['', 'Colette'],\n",
       " 'Drake': ['', 'Joyful', 'Larry'],\n",
       " 'Ewing': ['Heidi', 'Reid'],\n",
       " 'Fitzgerald': ['Tac', 'Tara'],\n",
       " 'Foster': ['Jon', 'Jodie'],\n",
       " 'Franklin': ['Al', 'Aretha'],\n",
       " 'Gomez': ['Rick', 'Nick'],\n",
       " 'Gordon': ['Dennie', 'Don'],\n",
       " 'Hooper': ['Tobe', 'Tom'],\n",
       " 'Howard': ['John', 'Joe'],\n",
       " 'Hunter': ['Kim', 'Tim'],\n",
       " 'Johnson': ['Kenneth', 'Ben'],\n",
       " 'Jones': ['Duane', 'Dean'],\n",
       " 'Lawrence': ['Marc', 'Martin'],\n",
       " 'Lee': ['Sngmoo', 'Angelica', 'Ang'],\n",
       " 'Lucas': ['Jon', 'John'],\n",
       " 'Marsh': ['Mae', 'Marian'],\n",
       " 'Miller': ['Christa', 'Chris', 'Ben', 'Bennett'],\n",
       " 'Moore': ['Michael', 'Rich'],\n",
       " 'Morrow': ['Michele', 'Vic'],\n",
       " 'Murray': ['Bill', 'Jillian'],\n",
       " 'Norton': ['Jim', 'James'],\n",
       " 'Parker': ['Eleanor',\n",
       "  'Ol',\n",
       "  'Alan',\n",
       "  'Trey',\n",
       "  'Nate',\n",
       "  'Oliver',\n",
       "  'Ty',\n",
       "  'Nathaniel'],\n",
       " 'Perez': ['Danny', 'Manny'],\n",
       " 'Pink': ['', 'Steve'],\n",
       " 'Puri': ['Om', 'Amrish'],\n",
       " 'Reed': ['Donna', 'Dan'],\n",
       " 'Remo': ['', 'Johnny'],\n",
       " 'Rice': ['Tim', 'Simeon'],\n",
       " 'Ryan': ['Pat', 'Max', 'Matt'],\n",
       " 'Sheridan': ['Jim', 'Jamey'],\n",
       " 'Simpson': ['Joe', 'John'],\n",
       " 'Smith': ['Willow', 'Will', 'William'],\n",
       " 'Taylor': ['Don', 'Dendrie'],\n",
       " 'West': ['Billy', 'Timothy', 'Ti', 'Simon'],\n",
       " 'Williams': ['Paul', 'Katt', 'Matt', 'Saul'],\n",
       " 'Wright': ['Jon', 'Joe'],\n",
       " 'Zhang': ['Yimou', 'Li']}"
      ]
     },
     "execution_count": 39,
     "metadata": {},
     "output_type": "execute_result"
    }
   ],
   "source": [
    "dict_nom"
   ]
  },
  {
   "cell_type": "markdown",
   "metadata": {},
   "source": [
    "> il va falloir passer à la main sur les doublons potentiels\n",
    ">\n",
    "> ex: Joe / John, Will / William, Saul / Paul, Oliver / Ol, Gary / Garry, Chris / Christopher"
   ]
  },
  {
   "cell_type": "markdown",
   "metadata": {},
   "source": [
    "'Adams': ['CJ', 'Claire', 'Jay', 'Jane'],\n",
    " 'Anderson': ['Pamela', 'Sam'],\n",
    " 'Atkins': ['Chris', 'Christopher'],\n",
    " 'Aviles': ['Rick', 'Vic'],\n",
    " 'Brooks': ['Mehcad', 'Mel'],\n",
    " 'Brown': ['Rob', 'Brianna', 'Bobby', 'Bryan'],\n",
    " 'Burke': ['Billie', 'Billy'],\n",
    " 'Capra': ['Frank', 'Francis'],\n",
    " 'Cassidy': ['Joanna', 'Joe'],\n",
    " 'Chang': ['Chin-Chien', 'Chen'],\n",
    " 'Clarke': ['Cam', 'Dameon'],\n",
    " 'Cooper': ['Gary', 'Garry'],\n",
    " 'Cox': ['Chris', 'Christina'],\n",
    " 'Cross': ['Ben', 'Kendrick', 'Joseph', 'Joe'],\n",
    " 'Davis': ['Essie', 'Ossie'],\n",
    " 'Divine': ['', 'Colette'],\n",
    " 'Drake': ['', 'Joyful', 'Larry'],\n",
    " 'Ewing': ['Heidi', 'Reid'],\n",
    " 'Fitzgerald': ['Tara', 'Tac'],\n",
    " 'Foster': ['Jon', 'Jodie'],\n",
    " 'Franklin': ['Al', 'Aretha'],\n",
    " 'Gomez': ['Rick', 'Nick'],\n",
    " 'Gordon': ['Dennie', 'Don'],\n",
    " 'Hooper': ['Tom', 'Tobe'],\n",
    " 'Howard': ['John', 'Joe'],\n",
    " 'Hunter': ['Tim', 'Kim'],\n",
    " 'Johnson': ['Ben', 'Kenneth'],\n",
    " 'Jones': ['Duane', 'Dean'],\n",
    " 'Lawrence': ['Martin', 'Marc'],\n",
    " 'Lee': ['Ang', 'Angelica', 'Sngmoo'],\n",
    " 'Lucas': ['Jon', 'John'],\n",
    " 'Marsh': ['Marian', 'Mae'],\n",
    " 'Miller': ['Chris', 'Ben', 'Christa', 'Bennett'],\n",
    " 'Moore': ['Michael', 'Rich'],\n",
    " 'Morrow': ['Michele', 'Vic'],\n",
    " 'Murray': ['Jillian', 'Bill'],\n",
    " 'Norton': ['James', 'Jim'],\n",
    " 'Parker': ['Alan',\n",
    "  'Eleanor',\n",
    "  'Trey',\n",
    "  'Oliver',\n",
    "  'Ol',\n",
    "  'Ty',\n",
    "  'Nate',\n",
    "  'Nathaniel'],\n",
    " 'Perez': ['Danny', 'Manny'],\n",
    " 'Pink': ['', 'Steve'],\n",
    " 'Puri': ['Om', 'Amrish'],\n",
    " 'Reed': ['Dan', 'Donna'],\n",
    " 'Remo': ['', 'Johnny'],\n",
    " 'Rice': ['Tim', 'Simeon'],\n",
    " 'Ryan': ['Max', 'Pat', 'Matt'],\n",
    " 'Sheridan': ['Jamey', 'Jim'],\n",
    " 'Simpson': ['John', 'Joe'],\n",
    " 'Smith': ['Willow', 'Will', 'William'],\n",
    " 'Taylor': ['Dendrie', 'Don'],\n",
    " 'West': ['Simon', 'Timothy', 'Billy', 'Ti'],\n",
    " 'Williams': ['Paul', 'Katt', 'Saul', 'Matt'],\n",
    " 'Wright': ['Jon', 'Joe'],\n",
    " 'Zhang': ['Li', 'Yimou']}"
   ]
  },
  {
   "cell_type": "code",
   "execution_count": null,
   "metadata": {},
   "outputs": [],
   "source": []
  },
  {
   "cell_type": "code",
   "execution_count": 40,
   "metadata": {},
   "outputs": [
    {
     "data": {
      "text/html": [
       "<div>\n",
       "<style scoped>\n",
       "    .dataframe tbody tr th:only-of-type {\n",
       "        vertical-align: middle;\n",
       "    }\n",
       "\n",
       "    .dataframe tbody tr th {\n",
       "        vertical-align: top;\n",
       "    }\n",
       "\n",
       "    .dataframe thead th {\n",
       "        text-align: right;\n",
       "    }\n",
       "</style>\n",
       "<table border=\"1\" class=\"dataframe\">\n",
       "  <thead>\n",
       "    <tr style=\"text-align: right;\">\n",
       "      <th></th>\n",
       "      <th></th>\n",
       "      <th>nom</th>\n",
       "      <th>facebook_likes</th>\n",
       "      <th>nom_f</th>\n",
       "      <th>prenom</th>\n",
       "    </tr>\n",
       "  </thead>\n",
       "  <tbody>\n",
       "    <tr>\n",
       "      <th rowspan=\"21\" valign=\"top\">actor_1</th>\n",
       "      <th>19</th>\n",
       "      <td>Will Smith</td>\n",
       "      <td>10000.0</td>\n",
       "      <td>Smith</td>\n",
       "      <td>Will</td>\n",
       "    </tr>\n",
       "    <tr>\n",
       "      <th>71</th>\n",
       "      <td>Will Smith</td>\n",
       "      <td>10000.0</td>\n",
       "      <td>Smith</td>\n",
       "      <td>Will</td>\n",
       "    </tr>\n",
       "    <tr>\n",
       "      <th>73</th>\n",
       "      <td>Will Smith</td>\n",
       "      <td>10000.0</td>\n",
       "      <td>Smith</td>\n",
       "      <td>Will</td>\n",
       "    </tr>\n",
       "    <tr>\n",
       "      <th>116</th>\n",
       "      <td>Will Smith</td>\n",
       "      <td>10000.0</td>\n",
       "      <td>Smith</td>\n",
       "      <td>Will</td>\n",
       "    </tr>\n",
       "    <tr>\n",
       "      <th>117</th>\n",
       "      <td>Will Smith</td>\n",
       "      <td>10000.0</td>\n",
       "      <td>Smith</td>\n",
       "      <td>Will</td>\n",
       "    </tr>\n",
       "    <tr>\n",
       "      <th>152</th>\n",
       "      <td>Will Smith</td>\n",
       "      <td>10000.0</td>\n",
       "      <td>Smith</td>\n",
       "      <td>Will</td>\n",
       "    </tr>\n",
       "    <tr>\n",
       "      <th>190</th>\n",
       "      <td>Will Smith</td>\n",
       "      <td>10000.0</td>\n",
       "      <td>Smith</td>\n",
       "      <td>Will</td>\n",
       "    </tr>\n",
       "    <tr>\n",
       "      <th>197</th>\n",
       "      <td>Will Smith</td>\n",
       "      <td>10000.0</td>\n",
       "      <td>Smith</td>\n",
       "      <td>Will</td>\n",
       "    </tr>\n",
       "    <tr>\n",
       "      <th>272</th>\n",
       "      <td>Will Smith</td>\n",
       "      <td>10000.0</td>\n",
       "      <td>Smith</td>\n",
       "      <td>Will</td>\n",
       "    </tr>\n",
       "    <tr>\n",
       "      <th>274</th>\n",
       "      <td>Will Smith</td>\n",
       "      <td>10000.0</td>\n",
       "      <td>Smith</td>\n",
       "      <td>Will</td>\n",
       "    </tr>\n",
       "    <tr>\n",
       "      <th>352</th>\n",
       "      <td>Will Smith</td>\n",
       "      <td>10000.0</td>\n",
       "      <td>Smith</td>\n",
       "      <td>Will</td>\n",
       "    </tr>\n",
       "    <tr>\n",
       "      <th>390</th>\n",
       "      <td>William Smith</td>\n",
       "      <td>919.0</td>\n",
       "      <td>Smith</td>\n",
       "      <td>William</td>\n",
       "    </tr>\n",
       "    <tr>\n",
       "      <th>409</th>\n",
       "      <td>Will Smith</td>\n",
       "      <td>10000.0</td>\n",
       "      <td>Smith</td>\n",
       "      <td>Will</td>\n",
       "    </tr>\n",
       "    <tr>\n",
       "      <th>522</th>\n",
       "      <td>Will Smith</td>\n",
       "      <td>10000.0</td>\n",
       "      <td>Smith</td>\n",
       "      <td>Will</td>\n",
       "    </tr>\n",
       "    <tr>\n",
       "      <th>673</th>\n",
       "      <td>Will Smith</td>\n",
       "      <td>10000.0</td>\n",
       "      <td>Smith</td>\n",
       "      <td>Will</td>\n",
       "    </tr>\n",
       "    <tr>\n",
       "      <th>842</th>\n",
       "      <td>Will Smith</td>\n",
       "      <td>10000.0</td>\n",
       "      <td>Smith</td>\n",
       "      <td>Will</td>\n",
       "    </tr>\n",
       "    <tr>\n",
       "      <th>851</th>\n",
       "      <td>Will Smith</td>\n",
       "      <td>10000.0</td>\n",
       "      <td>Smith</td>\n",
       "      <td>Will</td>\n",
       "    </tr>\n",
       "    <tr>\n",
       "      <th>893</th>\n",
       "      <td>Will Smith</td>\n",
       "      <td>10000.0</td>\n",
       "      <td>Smith</td>\n",
       "      <td>Will</td>\n",
       "    </tr>\n",
       "    <tr>\n",
       "      <th>1468</th>\n",
       "      <td>Will Smith</td>\n",
       "      <td>10000.0</td>\n",
       "      <td>Smith</td>\n",
       "      <td>Will</td>\n",
       "    </tr>\n",
       "    <tr>\n",
       "      <th>2052</th>\n",
       "      <td>Will Smith</td>\n",
       "      <td>10000.0</td>\n",
       "      <td>Smith</td>\n",
       "      <td>Will</td>\n",
       "    </tr>\n",
       "    <tr>\n",
       "      <th>4712</th>\n",
       "      <td>William Smith</td>\n",
       "      <td>919.0</td>\n",
       "      <td>Smith</td>\n",
       "      <td>William</td>\n",
       "    </tr>\n",
       "    <tr>\n",
       "      <th rowspan=\"2\" valign=\"top\">actor_2</th>\n",
       "      <th>787</th>\n",
       "      <td>Will Smith</td>\n",
       "      <td>10000.0</td>\n",
       "      <td>Smith</td>\n",
       "      <td>Will</td>\n",
       "    </tr>\n",
       "    <tr>\n",
       "      <th>3128</th>\n",
       "      <td>William Smith</td>\n",
       "      <td>919.0</td>\n",
       "      <td>Smith</td>\n",
       "      <td>William</td>\n",
       "    </tr>\n",
       "    <tr>\n",
       "      <th>actor_3</th>\n",
       "      <th>676</th>\n",
       "      <td>William Smith</td>\n",
       "      <td>919.0</td>\n",
       "      <td>Smith</td>\n",
       "      <td>William</td>\n",
       "    </tr>\n",
       "  </tbody>\n",
       "</table>\n",
       "</div>"
      ],
      "text/plain": [
       "                        nom  facebook_likes  nom_f   prenom\n",
       "actor_1 19       Will Smith         10000.0  Smith     Will\n",
       "        71       Will Smith         10000.0  Smith     Will\n",
       "        73       Will Smith         10000.0  Smith     Will\n",
       "        116      Will Smith         10000.0  Smith     Will\n",
       "        117      Will Smith         10000.0  Smith     Will\n",
       "        152      Will Smith         10000.0  Smith     Will\n",
       "        190      Will Smith         10000.0  Smith     Will\n",
       "        197      Will Smith         10000.0  Smith     Will\n",
       "        272      Will Smith         10000.0  Smith     Will\n",
       "        274      Will Smith         10000.0  Smith     Will\n",
       "        352      Will Smith         10000.0  Smith     Will\n",
       "        390   William Smith           919.0  Smith  William\n",
       "        409      Will Smith         10000.0  Smith     Will\n",
       "        522      Will Smith         10000.0  Smith     Will\n",
       "        673      Will Smith         10000.0  Smith     Will\n",
       "        842      Will Smith         10000.0  Smith     Will\n",
       "        851      Will Smith         10000.0  Smith     Will\n",
       "        893      Will Smith         10000.0  Smith     Will\n",
       "        1468     Will Smith         10000.0  Smith     Will\n",
       "        2052     Will Smith         10000.0  Smith     Will\n",
       "        4712  William Smith           919.0  Smith  William\n",
       "actor_2 787      Will Smith         10000.0  Smith     Will\n",
       "        3128  William Smith           919.0  Smith  William\n",
       "actor_3 676   William Smith           919.0  Smith  William"
      ]
     },
     "execution_count": 40,
     "metadata": {},
     "output_type": "execute_result"
    }
   ],
   "source": [
    "personns[(personns['nom_f']=='Smith') & ((personns['prenom']=='Will') | (personns['prenom']=='William'))]"
   ]
  },
  {
   "cell_type": "code",
   "execution_count": 41,
   "metadata": {},
   "outputs": [
    {
     "data": {
      "text/html": [
       "<div>\n",
       "<style scoped>\n",
       "    .dataframe tbody tr th:only-of-type {\n",
       "        vertical-align: middle;\n",
       "    }\n",
       "\n",
       "    .dataframe tbody tr th {\n",
       "        vertical-align: top;\n",
       "    }\n",
       "\n",
       "    .dataframe thead th {\n",
       "        text-align: right;\n",
       "    }\n",
       "</style>\n",
       "<table border=\"1\" class=\"dataframe\">\n",
       "  <thead>\n",
       "    <tr style=\"text-align: right;\">\n",
       "      <th></th>\n",
       "      <th>390</th>\n",
       "      <th>352</th>\n",
       "      <th>787</th>\n",
       "    </tr>\n",
       "  </thead>\n",
       "  <tbody>\n",
       "    <tr>\n",
       "      <th>id</th>\n",
       "      <td>82198</td>\n",
       "      <td>119654</td>\n",
       "      <td>146984</td>\n",
       "    </tr>\n",
       "    <tr>\n",
       "      <th>movie_title</th>\n",
       "      <td>Conan the Barbarian</td>\n",
       "      <td>Men in Black</td>\n",
       "      <td>The Legend of Bagger Vance</td>\n",
       "    </tr>\n",
       "    <tr>\n",
       "      <th>title_year</th>\n",
       "      <td>1982</td>\n",
       "      <td>1997</td>\n",
       "      <td>2000</td>\n",
       "    </tr>\n",
       "    <tr>\n",
       "      <th>imdb_score</th>\n",
       "      <td>6.9</td>\n",
       "      <td>7.3</td>\n",
       "      <td>6.7</td>\n",
       "    </tr>\n",
       "    <tr>\n",
       "      <th>content_rating</th>\n",
       "      <td>R</td>\n",
       "      <td>PG-13</td>\n",
       "      <td>PG-13</td>\n",
       "    </tr>\n",
       "    <tr>\n",
       "      <th>duration</th>\n",
       "      <td>129</td>\n",
       "      <td>98</td>\n",
       "      <td>126</td>\n",
       "    </tr>\n",
       "    <tr>\n",
       "      <th>aspect_ratio</th>\n",
       "      <td>2.35</td>\n",
       "      <td>1.85</td>\n",
       "      <td>1.85</td>\n",
       "    </tr>\n",
       "    <tr>\n",
       "      <th>color</th>\n",
       "      <td>Color</td>\n",
       "      <td>Color</td>\n",
       "      <td>Color</td>\n",
       "    </tr>\n",
       "    <tr>\n",
       "      <th>movie_imdb_link</th>\n",
       "      <td>http://www.imdb.com/title/tt0082198/?ref_=fn_t...</td>\n",
       "      <td>http://www.imdb.com/title/tt0119654/?ref_=fn_t...</td>\n",
       "      <td>http://www.imdb.com/title/tt0146984/?ref_=fn_t...</td>\n",
       "    </tr>\n",
       "    <tr>\n",
       "      <th>budget</th>\n",
       "      <td>2e+07</td>\n",
       "      <td>9e+07</td>\n",
       "      <td>6e+07</td>\n",
       "    </tr>\n",
       "    <tr>\n",
       "      <th>gross</th>\n",
       "      <td>3.75674e+07</td>\n",
       "      <td>2.50148e+08</td>\n",
       "      <td>3.06952e+07</td>\n",
       "    </tr>\n",
       "    <tr>\n",
       "      <th>language</th>\n",
       "      <td>English</td>\n",
       "      <td>English</td>\n",
       "      <td>English</td>\n",
       "    </tr>\n",
       "    <tr>\n",
       "      <th>country</th>\n",
       "      <td>USA</td>\n",
       "      <td>USA</td>\n",
       "      <td>USA</td>\n",
       "    </tr>\n",
       "    <tr>\n",
       "      <th>facenumber_in_poster</th>\n",
       "      <td>0</td>\n",
       "      <td>0</td>\n",
       "      <td>3</td>\n",
       "    </tr>\n",
       "    <tr>\n",
       "      <th>genres</th>\n",
       "      <td>Adventure|Fantasy</td>\n",
       "      <td>Adventure|Comedy|Family|Mystery|Sci-Fi</td>\n",
       "      <td>Drama|Fantasy|Sport</td>\n",
       "    </tr>\n",
       "    <tr>\n",
       "      <th>plot_keywords</th>\n",
       "      <td>actual animal killed|cult|evil sorcerer|gladia...</td>\n",
       "      <td>alien|box office hit|flying saucer|laser gun|w...</td>\n",
       "      <td>caddy|game|golf|golf course|golfer</td>\n",
       "    </tr>\n",
       "    <tr>\n",
       "      <th>num_critic_for_reviews</th>\n",
       "      <td>166</td>\n",
       "      <td>175</td>\n",
       "      <td>125</td>\n",
       "    </tr>\n",
       "    <tr>\n",
       "      <th>num_voted_users</th>\n",
       "      <td>113068</td>\n",
       "      <td>403014</td>\n",
       "      <td>45296</td>\n",
       "    </tr>\n",
       "    <tr>\n",
       "      <th>num_user_for_reviews</th>\n",
       "      <td>337</td>\n",
       "      <td>289</td>\n",
       "      <td>267</td>\n",
       "    </tr>\n",
       "    <tr>\n",
       "      <th>director_name</th>\n",
       "      <td>John Milius</td>\n",
       "      <td>Barry Sonnenfeld</td>\n",
       "      <td>Robert Redford</td>\n",
       "    </tr>\n",
       "    <tr>\n",
       "      <th>director_facebook_likes</th>\n",
       "      <td>468</td>\n",
       "      <td>188</td>\n",
       "      <td>0</td>\n",
       "    </tr>\n",
       "    <tr>\n",
       "      <th>actor_1_name</th>\n",
       "      <td>William Smith</td>\n",
       "      <td>Will Smith</td>\n",
       "      <td>Matt Damon</td>\n",
       "    </tr>\n",
       "    <tr>\n",
       "      <th>actor_1_facebook_likes</th>\n",
       "      <td>919</td>\n",
       "      <td>10000</td>\n",
       "      <td>13000</td>\n",
       "    </tr>\n",
       "    <tr>\n",
       "      <th>actor_2_name</th>\n",
       "      <td>Mako</td>\n",
       "      <td>Rip Torn</td>\n",
       "      <td>Will Smith</td>\n",
       "    </tr>\n",
       "    <tr>\n",
       "      <th>actor_2_facebook_likes</th>\n",
       "      <td>691</td>\n",
       "      <td>826</td>\n",
       "      <td>10000</td>\n",
       "    </tr>\n",
       "    <tr>\n",
       "      <th>actor_3_name</th>\n",
       "      <td>Sandahl Bergman</td>\n",
       "      <td>Linda Fiorentino</td>\n",
       "      <td>Charlize Theron</td>\n",
       "    </tr>\n",
       "    <tr>\n",
       "      <th>actor_3_facebook_likes</th>\n",
       "      <td>183</td>\n",
       "      <td>602</td>\n",
       "      <td>9000</td>\n",
       "    </tr>\n",
       "    <tr>\n",
       "      <th>movie_facebook_likes</th>\n",
       "      <td>0</td>\n",
       "      <td>0</td>\n",
       "      <td>0</td>\n",
       "    </tr>\n",
       "    <tr>\n",
       "      <th>cast_total_facebook_likes</th>\n",
       "      <td>2024</td>\n",
       "      <td>12998</td>\n",
       "      <td>34774</td>\n",
       "    </tr>\n",
       "  </tbody>\n",
       "</table>\n",
       "</div>"
      ],
      "text/plain": [
       "                                                                         390  \\\n",
       "id                                                                     82198   \n",
       "movie_title                                             Conan the Barbarian    \n",
       "title_year                                                              1982   \n",
       "imdb_score                                                               6.9   \n",
       "content_rating                                                             R   \n",
       "duration                                                                 129   \n",
       "aspect_ratio                                                            2.35   \n",
       "color                                                                  Color   \n",
       "movie_imdb_link            http://www.imdb.com/title/tt0082198/?ref_=fn_t...   \n",
       "budget                                                                 2e+07   \n",
       "gross                                                            3.75674e+07   \n",
       "language                                                             English   \n",
       "country                                                                  USA   \n",
       "facenumber_in_poster                                                       0   \n",
       "genres                                                     Adventure|Fantasy   \n",
       "plot_keywords              actual animal killed|cult|evil sorcerer|gladia...   \n",
       "num_critic_for_reviews                                                   166   \n",
       "num_voted_users                                                       113068   \n",
       "num_user_for_reviews                                                     337   \n",
       "director_name                                                    John Milius   \n",
       "director_facebook_likes                                                  468   \n",
       "actor_1_name                                                   William Smith   \n",
       "actor_1_facebook_likes                                                   919   \n",
       "actor_2_name                                                            Mako   \n",
       "actor_2_facebook_likes                                                   691   \n",
       "actor_3_name                                                 Sandahl Bergman   \n",
       "actor_3_facebook_likes                                                   183   \n",
       "movie_facebook_likes                                                       0   \n",
       "cast_total_facebook_likes                                               2024   \n",
       "\n",
       "                                                                         352  \\\n",
       "id                                                                    119654   \n",
       "movie_title                                                    Men in Black    \n",
       "title_year                                                              1997   \n",
       "imdb_score                                                               7.3   \n",
       "content_rating                                                         PG-13   \n",
       "duration                                                                  98   \n",
       "aspect_ratio                                                            1.85   \n",
       "color                                                                  Color   \n",
       "movie_imdb_link            http://www.imdb.com/title/tt0119654/?ref_=fn_t...   \n",
       "budget                                                                 9e+07   \n",
       "gross                                                            2.50148e+08   \n",
       "language                                                             English   \n",
       "country                                                                  USA   \n",
       "facenumber_in_poster                                                       0   \n",
       "genres                                Adventure|Comedy|Family|Mystery|Sci-Fi   \n",
       "plot_keywords              alien|box office hit|flying saucer|laser gun|w...   \n",
       "num_critic_for_reviews                                                   175   \n",
       "num_voted_users                                                       403014   \n",
       "num_user_for_reviews                                                     289   \n",
       "director_name                                               Barry Sonnenfeld   \n",
       "director_facebook_likes                                                  188   \n",
       "actor_1_name                                                      Will Smith   \n",
       "actor_1_facebook_likes                                                 10000   \n",
       "actor_2_name                                                        Rip Torn   \n",
       "actor_2_facebook_likes                                                   826   \n",
       "actor_3_name                                                Linda Fiorentino   \n",
       "actor_3_facebook_likes                                                   602   \n",
       "movie_facebook_likes                                                       0   \n",
       "cast_total_facebook_likes                                              12998   \n",
       "\n",
       "                                                                         787  \n",
       "id                                                                    146984  \n",
       "movie_title                                      The Legend of Bagger Vance   \n",
       "title_year                                                              2000  \n",
       "imdb_score                                                               6.7  \n",
       "content_rating                                                         PG-13  \n",
       "duration                                                                 126  \n",
       "aspect_ratio                                                            1.85  \n",
       "color                                                                  Color  \n",
       "movie_imdb_link            http://www.imdb.com/title/tt0146984/?ref_=fn_t...  \n",
       "budget                                                                 6e+07  \n",
       "gross                                                            3.06952e+07  \n",
       "language                                                             English  \n",
       "country                                                                  USA  \n",
       "facenumber_in_poster                                                       3  \n",
       "genres                                                   Drama|Fantasy|Sport  \n",
       "plot_keywords                             caddy|game|golf|golf course|golfer  \n",
       "num_critic_for_reviews                                                   125  \n",
       "num_voted_users                                                        45296  \n",
       "num_user_for_reviews                                                     267  \n",
       "director_name                                                 Robert Redford  \n",
       "director_facebook_likes                                                    0  \n",
       "actor_1_name                                                      Matt Damon  \n",
       "actor_1_facebook_likes                                                 13000  \n",
       "actor_2_name                                                      Will Smith  \n",
       "actor_2_facebook_likes                                                 10000  \n",
       "actor_3_name                                                 Charlize Theron  \n",
       "actor_3_facebook_likes                                                  9000  \n",
       "movie_facebook_likes                                                       0  \n",
       "cast_total_facebook_likes                                              34774  "
      ]
     },
     "execution_count": 41,
     "metadata": {},
     "output_type": "execute_result"
    }
   ],
   "source": [
    "datas_raw.loc[[390,352,787]].T"
   ]
  },
  {
   "cell_type": "markdown",
   "metadata": {},
   "source": [
    "> Les différents prénoms testés correspondent à des personnes différentes \n",
    ">\n",
    "> Dans les différentes valeurs, il n'y a pas de prénoms qui sont erronés ou des \n",
    "> diminutifs utilisés à la place du prénom"
   ]
  },
  {
   "cell_type": "code",
   "execution_count": null,
   "metadata": {},
   "outputs": [],
   "source": []
  },
  {
   "cell_type": "code",
   "execution_count": 42,
   "metadata": {},
   "outputs": [
    {
     "name": "stdout",
     "output_type": "stream",
     "text": [
      "8495\n",
      "8495\n"
     ]
    }
   ],
   "source": [
    "print(personns.nom.nunique())\n",
    "u = personns.nom.apply(lambda x: x.lower() if type(x)!=float else np.nan)\n",
    "print(u.nunique())"
   ]
  },
  {
   "cell_type": "markdown",
   "metadata": {},
   "source": [
    "> Il n'y avait pas de souci de casse dans les noms"
   ]
  },
  {
   "cell_type": "markdown",
   "metadata": {},
   "source": [
    "# Je prépare le fichier de sortie attendu"
   ]
  },
  {
   "cell_type": "markdown",
   "metadata": {},
   "source": [
    "```\n",
    "GET {URL_DE_VOTRE_API}/recommend/{ID_FILM}\n",
    "\n",
    "{\n",
    "    \"_results\": [\n",
    "        { \"id\": \"645657\", \"name\": \"Eternal sunshine of the spotless mind\" },\n",
    "        { \"id\": \"543556\", \"name\": \"500 Days of Summer\" },\n",
    "        { \"id\": \"873453\", \"name\": \"Lost in Translation\" }\n",
    "    ]\n",
    "}\n",
    "```\n"
   ]
  },
  {
   "cell_type": "code",
   "execution_count": 43,
   "metadata": {},
   "outputs": [],
   "source": [
    "def retourne_resultat_fichier(m_dataframe, id):\n",
    "    film_name = m_dataframe.loc[id, 'movie_title']\n",
    "    return {\"id\": id, \"name\":film_name}\n",
    "\n",
    "def resultat(m_dataframe, id):\n",
    "    res = []\n",
    "    for i in [1, 2, 3, 4, 5]:\n",
    "        res.append(retourne_resultat_fichier(m_dataframe, i))\n",
    "    \n",
    "    return { \"_results\": res}\n",
    "\n"
   ]
  },
  {
   "cell_type": "code",
   "execution_count": 44,
   "metadata": {
    "scrolled": true
   },
   "outputs": [
    {
     "name": "stdout",
     "output_type": "stream",
     "text": [
      "{\n",
      "    \u001b[34;01m\"_results\"\u001b[39;49;00m: [\n",
      "        {\n",
      "            \u001b[34;01m\"id\"\u001b[39;49;00m: \u001b[34m1\u001b[39;49;00m,\n",
      "            \u001b[34;01m\"name\"\u001b[39;49;00m: \u001b[33m\"Pirates of the Caribbean: At World's End\\u00a0\"\u001b[39;49;00m\n",
      "        },\n",
      "        {\n",
      "            \u001b[34;01m\"id\"\u001b[39;49;00m: \u001b[34m2\u001b[39;49;00m,\n",
      "            \u001b[34;01m\"name\"\u001b[39;49;00m: \u001b[33m\"Spectre\\u00a0\"\u001b[39;49;00m\n",
      "        },\n",
      "        {\n",
      "            \u001b[34;01m\"id\"\u001b[39;49;00m: \u001b[34m3\u001b[39;49;00m,\n",
      "            \u001b[34;01m\"name\"\u001b[39;49;00m: \u001b[33m\"The Dark Knight Rises\\u00a0\"\u001b[39;49;00m\n",
      "        },\n",
      "        {\n",
      "            \u001b[34;01m\"id\"\u001b[39;49;00m: \u001b[34m4\u001b[39;49;00m,\n",
      "            \u001b[34;01m\"name\"\u001b[39;49;00m: \u001b[33m\"Star Wars: Episode VII - The Force Awakens\\u00a0            \"\u001b[39;49;00m\n",
      "        },\n",
      "        {\n",
      "            \u001b[34;01m\"id\"\u001b[39;49;00m: \u001b[34m5\u001b[39;49;00m,\n",
      "            \u001b[34;01m\"name\"\u001b[39;49;00m: \u001b[33m\"John Carter\\u00a0\"\u001b[39;49;00m\n",
      "        }\n",
      "    ]\n",
      "}\n",
      "\n"
     ]
    }
   ],
   "source": [
    "import json\n",
    "from pygments import highlight, lexers, formatters\n",
    "\n",
    "formatted_json = json.dumps(resultat(datas_raw, 1), indent=4)\n",
    "#colorful_json = highlight(unicode(formatted_json, 'UTF-8'), lexers.JsonLexer(), formatters.TerminalFormatter())\n",
    "colorful_json = highlight(formatted_json, lexers.JsonLexer(), formatters.TerminalFormatter())\n",
    "\n",
    "print(colorful_json)"
   ]
  },
  {
   "cell_type": "markdown",
   "metadata": {},
   "source": [
    "## Suppression des caracteres d'espace insécables"
   ]
  },
  {
   "cell_type": "code",
   "execution_count": 45,
   "metadata": {},
   "outputs": [],
   "source": [
    "def suppress_non_breaking_space_char(value):\n",
    "    return value.replace(u'\\xa0', u'')\n",
    "\n",
    "datas_raw['movie_title'] = [suppress_non_breaking_space_char(i) \\\n",
    "                            for i in datas_raw['movie_title']]"
   ]
  },
  {
   "cell_type": "code",
   "execution_count": 46,
   "metadata": {},
   "outputs": [],
   "source": [
    "m = datas_raw['movie_title']"
   ]
  },
  {
   "cell_type": "code",
   "execution_count": null,
   "metadata": {},
   "outputs": [],
   "source": []
  },
  {
   "cell_type": "markdown",
   "metadata": {},
   "source": [
    "## Fonction de test pour retrouver un nom à peu prés"
   ]
  },
  {
   "cell_type": "code",
   "execution_count": 47,
   "metadata": {},
   "outputs": [],
   "source": [
    "def get_movie_id_by_name(approximativ_movie_name):\n",
    "    m = datas_raw['movie_title']\n",
    "    res = []\n",
    "    for i in m:\n",
    "        if approximativ_movie_name.lower() in i.lower():\n",
    "            res.append(i)\n",
    "    \n",
    "    for movie_name in res:\n",
    "        id = datas_raw[datas_raw['movie_title']==movie_name]['id'].values[0]\n",
    "        print(\"[{}] : {}\".format(id, movie_name))"
   ]
  },
  {
   "cell_type": "code",
   "execution_count": 48,
   "metadata": {},
   "outputs": [],
   "source": [
    "def get_movie_by_id(movie_id):\n",
    "    movie_id = int(movie_id)\n",
    "    title = datas_raw[datas_raw['id']==movie_id]['movie_title'].values[0]\n",
    "    act1 = datas_raw[datas_raw['id']==movie_id]['actor_1_name'].values[0]\n",
    "    act2 = datas_raw[datas_raw['id']==movie_id]['actor_2_name'].values[0]\n",
    "    act3 = datas_raw[datas_raw['id']==movie_id]['actor_3_name'].values[0]\n",
    "    \n",
    "    print('id [{id}] - title [{title}]\\n\\t\\t\\t-> actors [ {act1}, {act2}, {act3} ]\\n'.format(\n",
    "        id=movie_id, title=title, act1=act1, act2=act2, act3=act3))"
   ]
  },
  {
   "cell_type": "code",
   "execution_count": 49,
   "metadata": {},
   "outputs": [],
   "source": [
    "def get_movie_id_by_actor(approximativ_actor_name):\n",
    "    m = datas_raw['actor_1_name']\n",
    "    res1 = []\n",
    "    for i in m[m.notnull()]:\n",
    "        if approximativ_actor_name.lower() in i.lower():\n",
    "            res1.append(i)\n",
    "    \n",
    "    m = datas_raw['actor_2_name']\n",
    "    res2 = []\n",
    "    for i in m[m.notnull()]:\n",
    "        if approximativ_actor_name.lower() in i.lower():\n",
    "            res2.append(i)\n",
    "    \n",
    "    m = datas_raw['actor_3_name']\n",
    "    res3 = []\n",
    "    for i in m[m.notnull()]:\n",
    "        if approximativ_actor_name.lower() in i.lower():\n",
    "            res3.append(i)\n",
    "    \n",
    "    res1 = list(set(res1))\n",
    "    res2 = list(set(res2))\n",
    "    res3 = list(set(res3))\n",
    "    \n",
    "    for actor_name in res1:\n",
    "        print('--- {actor}'.format(actor=actor_name))\n",
    "        id = datas_raw[datas_raw['actor_1_name']==actor_name]['id']\n",
    "        \n",
    "        for i in id.values:\n",
    "            get_movie_by_id(i)\n",
    "    \n",
    "    for actor_name in res2:\n",
    "        print('--- {actor}'.format(actor=actor_name))\n",
    "        id = datas_raw[datas_raw['actor_2_name']==actor_name]['id']\n",
    "        \n",
    "        for i in id.values:\n",
    "            get_movie_by_id(i)\n",
    "\n",
    "    for actor_name in res3:\n",
    "        print('--- {actor}'.format(actor=actor_name))\n",
    "        id = datas_raw[datas_raw['actor_3_name']==actor_name]['id']\n",
    "        \n",
    "        for i in id.values:\n",
    "            get_movie_by_id(i)\n",
    "\n"
   ]
  },
  {
   "cell_type": "code",
   "execution_count": 50,
   "metadata": {},
   "outputs": [
    {
     "name": "stdout",
     "output_type": "stream",
     "text": [
      "[338013] : Eternal Sunshine of the Spotless Mind\n",
      "[45793] : From Here to Eternity\n",
      "id [45793] - title [From Here to Eternity]\n",
      "\t\t\t-> actors [ Montgomery Clift, Donna Reed, Deborah Kerr ]\n",
      "\n",
      "--- Chris Klein\n",
      "id [891592] - title [Street Fighter: The Legend of Chun-Li]\n",
      "\t\t\t-> actors [ Chris Klein, Robin Shou, Josie Ho ]\n",
      "\n",
      "--- Chris Hemsworth\n",
      "id [2395427] - title [Avengers: Age of Ultron]\n",
      "\t\t\t-> actors [ Chris Hemsworth, Robert Downey Jr., Scarlett Johansson ]\n",
      "\n",
      "id [848228] - title [The Avengers]\n",
      "\t\t\t-> actors [ Chris Hemsworth, Robert Downey Jr., Scarlett Johansson ]\n",
      "\n",
      "id [1735898] - title [Snow White and the Huntsman]\n",
      "\t\t\t-> actors [ Chris Hemsworth, Kristen Stewart, Sam Claflin ]\n",
      "\n",
      "id [1981115] - title [Thor: The Dark World]\n",
      "\t\t\t-> actors [ Chris Hemsworth, Natalie Portman, Anthony Hopkins ]\n",
      "\n",
      "id [800369] - title [Thor]\n",
      "\t\t\t-> actors [ Chris Hemsworth, Natalie Portman, Anthony Hopkins ]\n",
      "\n",
      "id [796366] - title [Star Trek]\n",
      "\t\t\t-> actors [ Chris Hemsworth, Leonard Nimoy, Bruce Greenwood ]\n",
      "\n",
      "id [2381991] - title [The Huntsman: Winter's War]\n",
      "\t\t\t-> actors [ Chris Hemsworth, Sam Claflin, Charlize Theron ]\n",
      "\n",
      "id [1390411] - title [In the Heart of the Sea]\n",
      "\t\t\t-> actors [ Chris Hemsworth, Benjamin Walker, Frank Dillane ]\n",
      "\n",
      "id [2717822] - title [Blackhat]\n",
      "\t\t\t-> actors [ Chris Hemsworth, Archie Kao, Brandon Molale ]\n",
      "\n",
      "id [1979320] - title [Rush]\n",
      "\t\t\t-> actors [ Chris Hemsworth, Olivia Wilde, Alexandra Maria Lara ]\n",
      "\n",
      "id [1524930] - title [Vacation]\n",
      "\t\t\t-> actors [ Chris Hemsworth, Norman Reedus, Beverly D'Angelo ]\n",
      "\n",
      "id [1259521] - title [The Cabin in the Woods]\n",
      "\t\t\t-> actors [ Chris Hemsworth, Bradley Whitford, Kristen Connolly ]\n",
      "\n",
      "id [971209] - title [A Perfect Getaway]\n",
      "\t\t\t-> actors [ Chris Hemsworth, Milla Jovovich, Marley Shelton ]\n",
      "\n",
      "id [1106860] - title [Ca$h]\n",
      "\t\t\t-> actors [ Chris Hemsworth, Mike Starr, Paul Sanchez ]\n",
      "\n",
      "--- Chris Zylka\n",
      "id [1633356] - title [Shark Night 3D]\n",
      "\t\t\t-> actors [ Chris Zylka, Joel David Moore, Katharine McPhee ]\n",
      "\n",
      "--- Chris Noth\n",
      "id [1261945] - title [Sex and the City 2]\n",
      "\t\t\t-> actors [ Chris Noth, Liza Minnelli, Kristin Davis ]\n",
      "\n",
      "id [159206] - title [Sex and the City            ]\n",
      "\t\t\t-> actors [ Chris Noth, Kristin Davis, Cynthia Nixon ]\n",
      "\n",
      "id [221218] - title [The Glass House]\n",
      "\t\t\t-> actors [ Chris Noth, Bruce Dern, Trevor Morgan ]\n",
      "\n",
      "id [2113659] - title [Elsa & Fred]\n",
      "\t\t\t-> actors [ Chris Noth, Jared Gilman, James Brolin ]\n",
      "\n",
      "--- Chris Brown\n",
      "id [1532958] - title [Battle of the Year]\n",
      "\t\t\t-> actors [ Chris Brown, Caity Lotz, Laz Alonso ]\n",
      "\n",
      "id [775539] - title [Stomp the Yard]\n",
      "\t\t\t-> actors [ Chris Brown, Laz Alonso, Harry Lennix ]\n",
      "\n",
      "id [1621045] - title [Think Like a Man]\n",
      "\t\t\t-> actors [ Chris Brown, Romany Malco, Regina Hall ]\n",
      "\n",
      "--- Chris Elliott\n",
      "id [184907] - title [Snow Day]\n",
      "\t\t\t-> actors [ Chris Elliott, Mark Webber, Jean Smart ]\n",
      "\n",
      "--- Chris Marquette\n",
      "id [265208] - title [The Girl Next Door]\n",
      "\t\t\t-> actors [ Chris Marquette, Timothy Bottoms, Jacob Young ]\n",
      "\n",
      "--- Chris Harrison\n",
      "id [313038] - title [The Bachelor            ]\n",
      "\t\t\t-> actors [ Chris Harrison, nan, nan ]\n",
      "\n",
      "--- Chris Evans\n",
      "id [458339] - title [Captain America: The First Avenger]\n",
      "\t\t\t-> actors [ Chris Evans, Dominic Cooper, Hayley Atwell ]\n",
      "\n",
      "id [486576] - title [Fantastic 4: Rise of the Silver Surfer]\n",
      "\t\t\t-> actors [ Chris Evans, Ioan Gruffudd, Andre Braugher ]\n",
      "\n",
      "id [448134] - title [Sunshine]\n",
      "\t\t\t-> actors [ Chris Evans, Benedict Wong, Troy Garity ]\n",
      "\n",
      "id [1706620] - title [Snowpiercer]\n",
      "\t\t\t-> actors [ Chris Evans, Ewen Bremner, Kang-ho Song ]\n",
      "\n",
      "id [453556] - title [TMNT]\n",
      "\t\t\t-> actors [ Chris Evans, Sarah Michelle Gellar, Mako ]\n",
      "\n",
      "id [480255] - title [The Losers]\n",
      "\t\t\t-> actors [ Chris Evans, Jason Patric, Óscar Jaenada ]\n",
      "\n",
      "id [770703] - title [What's Your Number?]\n",
      "\t\t\t-> actors [ Chris Evans, Ari Graynor, Ed Begley Jr. ]\n",
      "\n",
      "id [277371] - title [Not Another Teen Movie]\n",
      "\t\t\t-> actors [ Chris Evans, JoAnna Garcia Swisher, Mia Kirshner ]\n",
      "\n",
      "id [1491044] - title [The Iceman]\n",
      "\t\t\t-> actors [ Chris Evans, James Franco, Robert Davi ]\n",
      "\n",
      "--- Chris Eigeman\n",
      "id [100142] - title [Metropolitan]\n",
      "\t\t\t-> actors [ Chris Eigeman, Taylor Nichols, Ellia Thompson ]\n",
      "\n",
      "--- Chris Brochu\n",
      "id [2073661] - title [Dawn Patrol]\n",
      "\t\t\t-> actors [ Chris Brochu, Jeff Fahey, Rita Wilson ]\n",
      "\n",
      "--- Chris Gauthier\n",
      "id [1534085] - title [Beyond the Black Rainbow]\n",
      "\t\t\t-> actors [ Chris Gauthier, Marilyn Norry, Eva Bourne ]\n",
      "\n",
      "--- Chris Moss\n",
      "id [486551] - title [Beerfest]\n",
      "\t\t\t-> actors [ Chris Moss, Owain Yeoman, Jay Chandrasekhar ]\n",
      "\n",
      "--- Chris 'Wonder' Schoeck\n",
      "id [2181837] - title [Bending Steel]\n",
      "\t\t\t-> actors [ Chris 'Wonder' Schoeck, nan, nan ]\n",
      "\n",
      "--- Chris Bauer\n",
      "id [1964418] - title [Tomorrowland]\n",
      "\t\t\t-> actors [ Judy Greer, Chris Bauer, Thomas Robinson ]\n",
      "\n",
      "id [418689] - title [Flags of Our Fathers]\n",
      "\t\t\t-> actors [ Paul Walker, Chris Bauer, Tom McCarthy ]\n",
      "\n",
      "id [134273] - title [8MM]\n",
      "\t\t\t-> actors [ Nicolas Cage, Chris Bauer, Anthony Heald ]\n",
      "\n",
      "id [119227] - title [Snow White: A Tale of Terror]\n",
      "\t\t\t-> actors [ David Conrad, Chris Bauer, Monica Keena ]\n",
      "\n",
      "--- Chris Mulkey\n",
      "id [1535109] - title [Captain Phillips]\n",
      "\t\t\t-> actors [ Tom Hanks, Chris Mulkey, Michael Chernus ]\n",
      "\n",
      "--- Chris Klein\n",
      "id [246894] - title [Rollerball]\n",
      "\t\t\t-> actors [ LL Cool J, Chris Klein, Andrew Bryniarski ]\n",
      "\n",
      "id [239949] - title [Say It Isn't So]\n",
      "\t\t\t-> actors [ Eddie Cibrian, Chris Klein, Jack Plotnick ]\n",
      "\n",
      "id [195778] - title [Here on Earth]\n",
      "\t\t\t-> actors [ Bruce Greenwood, Chris Klein, Elaine Hendrix ]\n",
      "\n",
      "id [126886] - title [Election]\n",
      "\t\t\t-> actors [ Matthew Broderick, Chris Klein, Molly Hagan ]\n",
      "\n",
      "--- Chris New\n",
      "id [1714210] - title [Weekend]\n",
      "\t\t\t-> actors [ Tom Cullen, Chris New, Vauxhall Jermaine ]\n",
      "\n",
      "--- Chris Brown\n",
      "id [937375] - title [This Christmas]\n",
      "\t\t\t-> actors [ Mekhi Phifer, Chris Brown, Loretta Devine ]\n",
      "\n",
      "--- Chris Miller\n",
      "id [126029] - title [Shrek]\n",
      "\t\t\t-> actors [ Kathleen Freeman, Chris Miller, Bobby Block ]\n",
      "\n",
      "--- Chris Noth\n",
      "id [339412] - title [Mr 3000]\n",
      "\t\t\t-> actors [ Bernie Mac, Chris Noth, Paul Sorvino ]\n",
      "\n",
      "id [380623] - title [The Perfect Man]\n",
      "\t\t\t-> actors [ Ben Feldman, Chris Noth, Vanessa Lengies ]\n",
      "\n",
      "--- Chris Cox\n",
      "id [1560957] - title [I Want Your Money]\n",
      "\t\t\t-> actors [ Bill Farmer, Chris Cox, Mike Huckabee ]\n",
      "\n",
      "--- Chris Thomas\n",
      "id [1544600] - title [The Grace Card]\n",
      "\t\t\t-> actors [ Michael Joiner, Chris Thomas, Michael Higgenbottom ]\n",
      "\n",
      "--- Chris Elliott\n",
      "id [107048] - title [Groundhog Day]\n",
      "\t\t\t-> actors [ Bill Murray, Chris Elliott, Willie Garson ]\n",
      "\n",
      "--- Chris Penn\n",
      "id [264935] - title [Murder by Numbers]\n",
      "\t\t\t-> actors [ Ryan Gosling, Chris Penn, Agnes Bruckner ]\n",
      "\n",
      "id [87277] - title [Footloose]\n",
      "\t\t\t-> actors [ Dianne Wiest, Chris Penn, Lori Singer ]\n",
      "\n",
      "id [89767] - title [Pale Rider]\n",
      "\t\t\t-> actors [ Clint Eastwood, Chris Penn, Sydney Penny ]\n",
      "\n",
      "--- Chris Marquette\n",
      "id [2503954] - title [Broken Horses]\n",
      "\t\t\t-> actors [ María Valverde, Chris Marquette, Chad Bishop ]\n",
      "\n",
      "--- Chris Evans\n",
      "id [1843866] - title [Captain America: The Winter Soldier]\n",
      "\t\t\t-> actors [ Scarlett Johansson, Chris Evans, Hayley Atwell ]\n",
      "\n",
      "id [421073] - title [Street Kings]\n",
      "\t\t\t-> actors [ Keanu Reeves, Chris Evans, Noel Gugliemi ]\n",
      "\n",
      "id [449061] - title [London]\n",
      "\t\t\t-> actors [ Jason Statham, Chris Evans, Dane Cook ]\n",
      "\n",
      "--- Chris Kattan\n",
      "id [120770] - title [A Night at the Roxbury]\n",
      "\t\t\t-> actors [ Will Ferrell, Chris Kattan, Dan Hedaya ]\n",
      "\n",
      "--- Chris Brochu\n",
      "id [1596346] - title [Soul Surfer]\n",
      "\t\t\t-> actors [ Dennis Quaid, Chris Brochu, Craig T. Nelson ]\n",
      "\n",
      "--- Chris Owen\n",
      "id [342272] - title [Dear Wendy]\n",
      "\t\t\t-> actors [ Michael Angarano, Chris Owen, William Hootkins ]\n",
      "\n",
      "--- Chris Cleveland\n",
      "id [2100573] - title [Living Dark: The Story of Ted the Caver]\n",
      "\t\t\t-> actors [ Matthew Alan, Chris Cleveland, Circus-Szalewski ]\n",
      "\n",
      "--- Chris Pontius\n",
      "id [1421051] - title [Somewhere]\n",
      "\t\t\t-> actors [ Nathalie Fay, Chris Pontius, Erin Wasson ]\n",
      "\n",
      "--- Chris Bauer\n",
      "id [2241351] - title [Money Monster]\n",
      "\t\t\t-> actors [ Julia Roberts, Jack O'Connell, Chris Bauer ]\n",
      "\n",
      "id [155711] - title [Flawless]\n",
      "\t\t\t-> actors [ Robert De Niro, Philip Seymour Hoffman, Chris Bauer ]\n",
      "\n",
      "--- Chris Klein\n",
      "id [277434] - title [We Were Soldiers]\n",
      "\t\t\t-> actors [ Jon Hamm, Marc Blucas, Chris Klein ]\n",
      "\n",
      "id [465142] - title [American Dreamz]\n",
      "\t\t\t-> actors [ Judy Greer, Dennis Quaid, Chris Klein ]\n",
      "\n",
      "--- Chris Mulkey\n",
      "id [83944] - title [First Blood]\n",
      "\t\t\t-> actors [ Sylvester Stallone, Brian Dennehy, Chris Mulkey ]\n",
      "\n",
      "id [372873] - title [Dragon Wars: D-War]\n",
      "\t\t\t-> actors [ Robert Forster, Aimee Garcia, Chris Mulkey ]\n",
      "\n",
      "id [2582802] - title [Whiplash]\n",
      "\t\t\t-> actors [ J.K. Simmons, Melissa Benoist, Chris Mulkey ]\n",
      "\n",
      "id [2184339] - title [The Purge]\n",
      "\t\t\t-> actors [ Rhys Wakefield, Adelaide Kane, Chris Mulkey ]\n",
      "\n",
      "--- Chris Zylka\n",
      "id [948470] - title [The Amazing Spider-Man]\n",
      "\t\t\t-> actors [ Emma Stone, Andrew Garfield, Chris Zylka ]\n",
      "\n",
      "--- Chris Barrie\n",
      "id [146316] - title [Lara Croft: Tomb Raider]\n",
      "\t\t\t-> actors [ Angelina Jolie Pitt, Noah Taylor, Chris Barrie ]\n",
      "\n",
      "--- Chris Ellis\n",
      "id [204626] - title [The Watcher]\n",
      "\t\t\t-> actors [ Keanu Reeves, Joseph Sikora, Chris Ellis ]\n",
      "\n",
      "--- Chris Elliott\n",
      "id [144528] - title [Nutty Professor II: The Klumps]\n",
      "\t\t\t-> actors [ Larry Miller, Janet Jackson, Chris Elliott ]\n",
      "\n",
      "id [1153706] - title [Dance Flick]\n",
      "\t\t\t-> actors [ Damon Wayans Jr., Essence Atkins, Chris Elliott ]\n",
      "\n",
      "--- Chris Penn\n",
      "id [367479] - title [After the Sunset]\n",
      "\t\t\t-> actors [ Salma Hayek, Don Cheadle, Chris Penn ]\n",
      "\n",
      "id [265808] - title [Stealing Harvard]\n",
      "\t\t\t-> actors [ Martin Starr, Megan Mullally, Chris Penn ]\n",
      "\n"
     ]
    },
    {
     "name": "stdout",
     "output_type": "stream",
     "text": [
      "id [105236] - title [Reservoir Dogs]\n",
      "\t\t\t-> actors [ Quentin Tarantino, Steve Buscemi, Chris Penn ]\n",
      "\n",
      "--- Chris Andrew Ciulla\n",
      "id [405336] - title [Southland Tales]\n",
      "\t\t\t-> actors [ Janeane Garofalo, Curtis Armstrong, Chris Andrew Ciulla ]\n",
      "\n",
      "--- Chris Evans\n",
      "id [3498820] - title [Captain America: Civil War]\n",
      "\t\t\t-> actors [ Robert Downey Jr., Scarlett Johansson, Chris Evans ]\n",
      "\n",
      "--- Chris Bruno\n",
      "id [281432] - title [The Dead Zone            ]\n",
      "\t\t\t-> actors [ David Ogden Stiers, Nicole de Boer, Chris Bruno ]\n",
      "\n",
      "--- Chris Kattan\n",
      "id [1151410] - title [Tanner Hall]\n",
      "\t\t\t-> actors [ Tom Everett Scott, Amy Sedaris, Chris Kattan ]\n",
      "\n",
      "id [455326] - title [Aqua Teen Hunger Force Colon Movie Film for Theaters]\n",
      "\t\t\t-> actors [ Tina Fey, Fred Armisen, Chris Kattan ]\n",
      "\n",
      "--- Chris Parnell\n",
      "id [787475] - title [Hot Rod]\n",
      "\t\t\t-> actors [ Sissy Spacek, Jorma Taccone, Chris Parnell ]\n",
      "\n",
      "--- Chris Gauthier\n",
      "id [313911] - title [Agent Cody Banks]\n",
      "\t\t\t-> actors [ Daniel Roebuck, Frankie Muniz, Chris Gauthier ]\n",
      "\n",
      "--- Chris Weitz\n",
      "id [200530] - title [Chuck & Buck]\n",
      "\t\t\t-> actors [ Lupe Ontiveros, Mike White, Chris Weitz ]\n",
      "\n",
      "--- Chris Young\n",
      "id [110759] - title [PCU]\n",
      "\t\t\t-> actors [ Jon Favreau, Matt Ross, Chris Young ]\n",
      "\n",
      "--- Chris Geere\n",
      "id [397044] - title [Blood and Chocolate]\n",
      "\t\t\t-> actors [ Olivier Martinez, Agnes Bruckner, Chris Geere ]\n",
      "\n",
      "--- Chris Lowell\n",
      "id [1193138] - title [Up in the Air]\n",
      "\t\t\t-> actors [ J.K. Simmons, Anna Kendrick, Chris Lowell ]\n",
      "\n",
      "--- Chris Pontius\n",
      "id [1116184] - title [Jackass 3D]\n",
      "\t\t\t-> actors [ Bam Margera, Steve-O, Chris Pontius ]\n",
      "\n",
      "id [493430] - title [Jackass Number Two]\n",
      "\t\t\t-> actors [ Bam Margera, Steve-O, Chris Pontius ]\n",
      "\n",
      "id [322802] - title [Jackass: The Movie]\n",
      "\t\t\t-> actors [ Bam Margera, Steve-O, Chris Pontius ]\n",
      "\n"
     ]
    },
    {
     "data": {
      "text/plain": [
       "4       Star Wars: Episode VII - The Force Awakens    ...\n",
       "279                               10,000 B.C.            \n",
       "459                                 Daredevil            \n",
       "1948                                            Dear John\n",
       "2015                                              Red Sky\n",
       "2459                            Unforgettable            \n",
       "2753                                    Shinjuku Incident\n",
       "3272                                Into the Grizzly Maze\n",
       "3539    Alpha and Omega 4: The Legend of the Saw Tooth...\n",
       "3638                       Snow Flower and the Secret Fan\n",
       "3656                                         Freaky Deaky\n",
       "4138                                     Something Wicked\n",
       "4215                                The Rise of the Krays\n",
       "4331                                     Small Apartments\n",
       "4409                                 Kickboxer: Vengeance\n",
       "4441                           Once Upon a Time in Queens\n",
       "4630                                          A Fine Step\n",
       "4846                                     Midnight Cabaret\n",
       "5020                                           The Ridges\n",
       "Name: movie_title, dtype: object"
      ]
     },
     "execution_count": 50,
     "metadata": {},
     "output_type": "execute_result"
    }
   ],
   "source": [
    "get_movie_id_by_name('etern')\n",
    "get_movie_by_id('45793')\n",
    "uu = get_movie_id_by_actor('chris ')\n",
    "datas_raw[(datas_raw.color.isnull())]['movie_title']\n"
   ]
  },
  {
   "cell_type": "code",
   "execution_count": null,
   "metadata": {},
   "outputs": [],
   "source": []
  },
  {
   "cell_type": "code",
   "execution_count": 51,
   "metadata": {},
   "outputs": [],
   "source": [
    "def most_common_words(labels, affiche=True, nb_mot_affichage=100, return_values=True, split_char='|' ):\n",
    "    words = []\n",
    "    for lab in labels:\n",
    "        if type(lab)==float:\n",
    "            continue\n",
    "        words += lab.split(split_char)\n",
    "    counter = Counter(words)\n",
    "    if affiche:\n",
    "        for word in counter.most_common(nb_mot_affichage):\n",
    "            print(word)\n",
    "    if return_values:\n",
    "        return counter"
   ]
  },
  {
   "cell_type": "code",
   "execution_count": 52,
   "metadata": {},
   "outputs": [],
   "source": [
    "def is_something(value, liste_mots):\n",
    "    if type(value)==float:\n",
    "        if np.isnan(value):\n",
    "            return False\n",
    "    else:\n",
    "        value = value.lower()\n",
    "        words = value.split(\"|\")\n",
    "        check_in = lambda x : True if x in words else False\n",
    "        \n",
    "        if sum([check_in(i.lower()) for i in liste_mots]):\n",
    "            return True\n",
    "        else:\n",
    "            return False"
   ]
  },
  {
   "cell_type": "code",
   "execution_count": 53,
   "metadata": {},
   "outputs": [
    {
     "data": {
      "text/plain": [
       "2535"
      ]
     },
     "execution_count": 53,
     "metadata": {},
     "output_type": "execute_result"
    }
   ],
   "source": [
    "sum(datas_raw.genres.apply(is_something, liste_mots=['Drama']))"
   ]
  },
  {
   "cell_type": "code",
   "execution_count": 54,
   "metadata": {},
   "outputs": [
    {
     "data": {
      "text/plain": [
       "4919"
      ]
     },
     "execution_count": 54,
     "metadata": {},
     "output_type": "execute_result"
    }
   ],
   "source": [
    "len(datas_raw)"
   ]
  },
  {
   "cell_type": "code",
   "execution_count": null,
   "metadata": {},
   "outputs": [],
   "source": []
  },
  {
   "cell_type": "markdown",
   "metadata": {},
   "source": [
    "# Ajout de Features de Texte"
   ]
  },
  {
   "cell_type": "markdown",
   "metadata": {},
   "source": [
    "## Les Genres"
   ]
  },
  {
   "cell_type": "code",
   "execution_count": 55,
   "metadata": {},
   "outputs": [],
   "source": [
    "genre = list(most_common_words(datas_raw.genres,nb_mot_affichage=100, return_values=True, affiche=False))\n",
    "genre = [i.lower() if type(i)!= float else np.nan for i in genre]"
   ]
  },
  {
   "cell_type": "code",
   "execution_count": 56,
   "metadata": {},
   "outputs": [],
   "source": [
    "for name in genre:\n",
    "    my_liste_mot = []\n",
    "    my_liste_mot.append(name)\n",
    "    datas_raw['genre_'+name] = datas_raw.genres.apply(is_something, liste_mots=my_liste_mot)"
   ]
  },
  {
   "cell_type": "code",
   "execution_count": 57,
   "metadata": {},
   "outputs": [
    {
     "data": {
      "text/plain": [
       "1113"
      ]
     },
     "execution_count": 57,
     "metadata": {},
     "output_type": "execute_result"
    }
   ],
   "source": [
    "sum(datas_raw['genre_action'])"
   ]
  },
  {
   "cell_type": "code",
   "execution_count": 58,
   "metadata": {},
   "outputs": [
    {
     "data": {
      "text/plain": [
       "26"
      ]
     },
     "execution_count": 58,
     "metadata": {},
     "output_type": "execute_result"
    }
   ],
   "source": [
    "l_genre = sorted([ c_state for c_state in datas_raw.columns if re.match('^genre_.*',c_state)])\n",
    "len(l_genre)"
   ]
  },
  {
   "cell_type": "markdown",
   "metadata": {},
   "source": [
    "## Les mots clef"
   ]
  },
  {
   "cell_type": "code",
   "execution_count": 59,
   "metadata": {},
   "outputs": [],
   "source": [
    "nb_mots_clef_max = 900\n",
    "nb_recurrent_min = 9\n",
    "keywords = most_common_words(datas_raw.plot_keywords,nb_mot_affichage=nb_mots_clef_max, \n",
    "                             return_values=True, affiche=False)\n",
    "keywords = [i  for i in keywords.keys() if keywords[i]>nb_recurrent_min]"
   ]
  },
  {
   "cell_type": "code",
   "execution_count": 60,
   "metadata": {},
   "outputs": [],
   "source": [
    "# On ajoute les features de mots_clef\n",
    "for name in keywords:\n",
    "    my_liste_mot = []\n",
    "    my_liste_mot.append(name)\n",
    "    datas_raw['keyw_'+name] = datas_raw.plot_keywords.apply(is_something, liste_mots=my_liste_mot)"
   ]
  },
  {
   "cell_type": "code",
   "execution_count": 61,
   "metadata": {},
   "outputs": [
    {
     "data": {
      "text/plain": [
       "(55, 191)"
      ]
     },
     "execution_count": 61,
     "metadata": {},
     "output_type": "execute_result"
    }
   ],
   "source": [
    "sum(datas_raw['keyw_dog']), sum(datas_raw['keyw_love'])"
   ]
  },
  {
   "cell_type": "code",
   "execution_count": 62,
   "metadata": {},
   "outputs": [
    {
     "data": {
      "text/plain": [
       "416"
      ]
     },
     "execution_count": 62,
     "metadata": {},
     "output_type": "execute_result"
    }
   ],
   "source": [
    "l_keyw = sorted([ c_state for c_state in datas_raw.columns if re.match('^keyw_.*',c_state)])\n",
    "len(l_keyw)"
   ]
  },
  {
   "cell_type": "markdown",
   "metadata": {},
   "source": [
    "## Les noms des realisateurs"
   ]
  },
  {
   "cell_type": "code",
   "execution_count": 63,
   "metadata": {},
   "outputs": [],
   "source": [
    "nb_mots_clef_max = 900\n",
    "nb_recurrent_min = 5\n",
    "director = most_common_words(datas_raw.director_name,nb_mot_affichage=nb_mots_clef_max, \n",
    "                             return_values=True, affiche=False)\n",
    "director = [i  for i in director.keys() if director[i]>nb_recurrent_min]"
   ]
  },
  {
   "cell_type": "code",
   "execution_count": 64,
   "metadata": {},
   "outputs": [],
   "source": [
    "# On ajoute les features de director_name\n",
    "for name in director:\n",
    "    my_liste_mot = []\n",
    "    my_liste_mot.append(name)\n",
    "    datas_raw['dir_'+name] = datas_raw.director_name.apply(is_something, liste_mots=my_liste_mot)"
   ]
  },
  {
   "cell_type": "code",
   "execution_count": 65,
   "metadata": {},
   "outputs": [
    {
     "data": {
      "text/plain": [
       "140"
      ]
     },
     "execution_count": 65,
     "metadata": {},
     "output_type": "execute_result"
    }
   ],
   "source": [
    "l_dir = sorted([ c_state for c_state in datas_raw.columns if re.match('^dir_.*',c_state)])\n",
    "len(l_dir)"
   ]
  },
  {
   "cell_type": "markdown",
   "metadata": {},
   "source": [
    "## Les noms des acteurs"
   ]
  },
  {
   "cell_type": "code",
   "execution_count": 66,
   "metadata": {},
   "outputs": [],
   "source": [
    "def concat_name(a,b,c):\n",
    "    res_str = []\n",
    "    if type(a)!=float:\n",
    "        res_str.append(a)\n",
    "    if type(b)!=float:\n",
    "        res_str.append(b)\n",
    "    if type(c)!=float:\n",
    "        res_str.append(c)\n",
    "    return '|'.join(res_str)"
   ]
  },
  {
   "cell_type": "code",
   "execution_count": 67,
   "metadata": {},
   "outputs": [],
   "source": [
    "datas_raw['acteur'] = datas_raw.apply(lambda row: concat_name(\n",
    "    row['actor_1_name'],\n",
    "    row['actor_2_name'],\n",
    "    row['actor_3_name']),axis=1)"
   ]
  },
  {
   "cell_type": "code",
   "execution_count": 68,
   "metadata": {},
   "outputs": [],
   "source": [
    "nb_mots_clef_max = 900\n",
    "nb_recurrent_min = 9\n",
    "acteur = most_common_words(datas_raw['acteur'],nb_mot_affichage=nb_mots_clef_max, \n",
    "                             return_values=True, affiche=False)\n",
    "acteur = [i  for i in acteur.keys() if acteur[i]>nb_recurrent_min]"
   ]
  },
  {
   "cell_type": "code",
   "execution_count": 69,
   "metadata": {},
   "outputs": [],
   "source": [
    "# On ajoute les features de director_name\n",
    "for name in acteur:\n",
    "    my_liste_mot = []\n",
    "    my_liste_mot.append(name)\n",
    "    datas_raw['acteur_'+name] = datas_raw['acteur'].apply(is_something, liste_mots=my_liste_mot)"
   ]
  },
  {
   "cell_type": "code",
   "execution_count": 70,
   "metadata": {},
   "outputs": [
    {
     "data": {
      "text/plain": [
       "210"
      ]
     },
     "execution_count": 70,
     "metadata": {},
     "output_type": "execute_result"
    }
   ],
   "source": [
    "l_acteur = sorted([ c_state for c_state in datas_raw.columns if re.match('^acteur_.*',c_state)])\n",
    "len(l_acteur)"
   ]
  },
  {
   "cell_type": "code",
   "execution_count": null,
   "metadata": {},
   "outputs": [],
   "source": []
  },
  {
   "cell_type": "code",
   "execution_count": null,
   "metadata": {},
   "outputs": [],
   "source": []
  },
  {
   "cell_type": "markdown",
   "metadata": {},
   "source": [
    "# CONTENT RATING"
   ]
  },
  {
   "cell_type": "code",
   "execution_count": 71,
   "metadata": {
    "scrolled": true
   },
   "outputs": [
    {
     "data": {
      "text/plain": [
       "content_rating\n",
       "Approved       54\n",
       "G             112\n",
       "GP              6\n",
       "M               5\n",
       "NC-17           7\n",
       "Not Rated     115\n",
       "PG            686\n",
       "PG-13        1411\n",
       "Passed          9\n",
       "R            2069\n",
       "TV-14          30\n",
       "TV-G           10\n",
       "TV-MA          18\n",
       "TV-PG          13\n",
       "TV-Y            1\n",
       "TV-Y7           1\n",
       "Unrated        59\n",
       "X              12\n",
       "dtype: int64"
      ]
     },
     "execution_count": 71,
     "metadata": {},
     "output_type": "execute_result"
    }
   ],
   "source": [
    "datas_raw.groupby(['content_rating']).size()"
   ]
  },
  {
   "cell_type": "markdown",
   "metadata": {},
   "source": [
    "https://fr.wikipedia.org/wiki/TV_Parental_Guidelines\n",
    "\n",
    "https://fr.wikipedia.org/wiki/Motion_Picture_Association_of_America\n",
    "\n",
    "https://en.wikipedia.org/wiki/Motion_Picture_Association_of_America_film_rating_system\n",
    "\n",
    "http://www.tvguidelines.org/ratings.htm\n",
    "\n"
   ]
  },
  {
   "cell_type": "markdown",
   "metadata": {},
   "source": [
    "- TV-Y : Pour tous les enfants\n",
    "- TV-Y7 : Pour les enfants de plus de 7 ans\n",
    "- TV-G : pour tout le monde mais intéret à voir avec les parents\n",
    "- TV-PG : peut contenir des choses particulière\n",
    "- TV-14 : pour les plus de 14 ans\n",
    "- TV-MA : pour adulte -- pour les plus de 17 ans\n",
    "\n",
    "- G : tout public\n",
    "- PG : peut heurter les jeunes\n",
    "- PG-13 : pour les plus de 13\n",
    "- NC-17 : pour les plus de 17 ans\n",
    "- X : pour les plus de 17 ans\n",
    "- R pour les plus de 17 ans\n",
    "\n",
    "- GP pour tous : == PG\n",
    "- M = PG\n",
    "\n",
    "- Approved       54  -> on met en PG\n",
    "- Not Rated     115  -> on met en NC-17\n",
    "- Passed          9  -> G\n",
    "- Unrated        59  -> NC-17\n",
    "\n",
    "> Pour les valeurs non renseignées on met par défaut à 17 pour éviter tout risque\n",
    ">\n",
    "> Nous créons une nouvelle features : age_limite"
   ]
  },
  {
   "cell_type": "code",
   "execution_count": 72,
   "metadata": {},
   "outputs": [],
   "source": [
    "dict_age_limite = {\n",
    "    'TV-Y':0 ,\n",
    "    'TV-Y7':7 ,\n",
    "    'TV-G':0 ,\n",
    "    'TV-PG':7, \n",
    "    'TV-14':14, \n",
    "    'TV-MA':17,\n",
    "    'G':0, \n",
    "    'PG':7, \n",
    "    'PG-13':14, \n",
    "    'R': 17, \n",
    "    'NC-17': 17,\n",
    "    'X': 17,\n",
    "    'GP': 7, \n",
    "    'M': 7, \n",
    "    'Approved': 7, \n",
    "    'Not Rated': 17, \n",
    "    'Passed': 17, \n",
    "    'Unrated': 17    \n",
    "}"
   ]
  },
  {
   "cell_type": "code",
   "execution_count": 73,
   "metadata": {},
   "outputs": [],
   "source": [
    "datas_raw['age_limite'] = [dict_age_limite[i] \n",
    "                           if type(i)!=float else 17 for i in datas_raw['content_rating']]"
   ]
  },
  {
   "cell_type": "code",
   "execution_count": 74,
   "metadata": {},
   "outputs": [
    {
     "data": {
      "image/png": "[encoded data removed]",
      "text/plain": [
       "<Figure size 432x288 with 1 Axes>"
      ]
     },
     "metadata": {},
     "output_type": "display_data"
    },
    {
     "data": {
      "text/plain": [
       "age_limite\n",
       "0      123\n",
       "7      765\n",
       "14    1441\n",
       "17    2590\n",
       "dtype: int64"
      ]
     },
     "execution_count": 74,
     "metadata": {},
     "output_type": "execute_result"
    }
   ],
   "source": [
    "u = datas_raw.age_limite\n",
    "u.hist()\n",
    "plt.xlim(0)\n",
    "plt.ylim(22)\n",
    "plt.show()\n",
    "\n",
    "datas_raw.groupby(['age_limite']).size()"
   ]
  },
  {
   "cell_type": "markdown",
   "metadata": {},
   "source": [
    "# Répartition par Pays"
   ]
  },
  {
   "cell_type": "code",
   "execution_count": 75,
   "metadata": {},
   "outputs": [
    {
     "data": {
      "text/plain": [
       "5"
      ]
     },
     "execution_count": 75,
     "metadata": {},
     "output_type": "execute_result"
    }
   ],
   "source": [
    "sum(datas_raw.country.isnull())"
   ]
  },
  {
   "cell_type": "code",
   "execution_count": 76,
   "metadata": {},
   "outputs": [
    {
     "data": {
      "text/html": [
       "<div>\n",
       "<style scoped>\n",
       "    .dataframe tbody tr th:only-of-type {\n",
       "        vertical-align: middle;\n",
       "    }\n",
       "\n",
       "    .dataframe tbody tr th {\n",
       "        vertical-align: top;\n",
       "    }\n",
       "\n",
       "    .dataframe thead th {\n",
       "        text-align: right;\n",
       "    }\n",
       "</style>\n",
       "<table border=\"1\" class=\"dataframe\">\n",
       "  <thead>\n",
       "    <tr style=\"text-align: right;\">\n",
       "      <th></th>\n",
       "      <th>movie_title</th>\n",
       "      <th>movie_imdb_link</th>\n",
       "      <th>country</th>\n",
       "    </tr>\n",
       "  </thead>\n",
       "  <tbody>\n",
       "    <tr>\n",
       "      <th>4</th>\n",
       "      <td>Star Wars: Episode VII - The Force Awakens    ...</td>\n",
       "      <td>http://www.imdb.com/title/tt5289954/?ref_=fn_t...</td>\n",
       "      <td>NaN</td>\n",
       "    </tr>\n",
       "    <tr>\n",
       "      <th>279</th>\n",
       "      <td>10,000 B.C.</td>\n",
       "      <td>http://www.imdb.com/title/tt1869849/?ref_=fn_t...</td>\n",
       "      <td>NaN</td>\n",
       "    </tr>\n",
       "    <tr>\n",
       "      <th>2370</th>\n",
       "      <td>Gone, Baby, Gone</td>\n",
       "      <td>http://www.imdb.com/title/tt1697237/?ref_=fn_t...</td>\n",
       "      <td>NaN</td>\n",
       "    </tr>\n",
       "    <tr>\n",
       "      <th>3397</th>\n",
       "      <td>Preacher</td>\n",
       "      <td>http://www.imdb.com/title/tt5016504/?ref_=fn_t...</td>\n",
       "      <td>NaN</td>\n",
       "    </tr>\n",
       "    <tr>\n",
       "      <th>4021</th>\n",
       "      <td>Dawn Patrol</td>\n",
       "      <td>http://www.imdb.com/title/tt2073661/?ref_=fn_t...</td>\n",
       "      <td>NaN</td>\n",
       "    </tr>\n",
       "  </tbody>\n",
       "</table>\n",
       "</div>"
      ],
      "text/plain": [
       "                                            movie_title  \\\n",
       "4     Star Wars: Episode VII - The Force Awakens    ...   \n",
       "279                             10,000 B.C.               \n",
       "2370                       Gone, Baby, Gone               \n",
       "3397                               Preacher               \n",
       "4021                                        Dawn Patrol   \n",
       "\n",
       "                                        movie_imdb_link country  \n",
       "4     http://www.imdb.com/title/tt5289954/?ref_=fn_t...     NaN  \n",
       "279   http://www.imdb.com/title/tt1869849/?ref_=fn_t...     NaN  \n",
       "2370  http://www.imdb.com/title/tt1697237/?ref_=fn_t...     NaN  \n",
       "3397  http://www.imdb.com/title/tt5016504/?ref_=fn_t...     NaN  \n",
       "4021  http://www.imdb.com/title/tt2073661/?ref_=fn_t...     NaN  "
      ]
     },
     "execution_count": 76,
     "metadata": {},
     "output_type": "execute_result"
    }
   ],
   "source": [
    "datas_raw[datas_raw.country.isnull()][['movie_title', 'movie_imdb_link','country']]"
   ]
  },
  {
   "cell_type": "markdown",
   "metadata": {},
   "source": [
    "> En allant sur Internet on voit que les 5 sont des USA\n",
    "> \n",
    "> On modifie les données à la main"
   ]
  },
  {
   "cell_type": "code",
   "execution_count": 77,
   "metadata": {},
   "outputs": [],
   "source": [
    "datas_raw.loc[[4,279,2370,3397, 4021],'country'] = 'USA'"
   ]
  },
  {
   "cell_type": "code",
   "execution_count": null,
   "metadata": {},
   "outputs": [],
   "source": []
  },
  {
   "cell_type": "code",
   "execution_count": 78,
   "metadata": {},
   "outputs": [
    {
     "data": {
      "text/plain": [
       "array(['USA', 'UK', 'New Zealand', 'Canada', 'Australia', 'Belgium',\n",
       "       'Japan', 'Germany', 'China', 'France', 'New Line', 'Mexico',\n",
       "       'Spain', 'Hong Kong', 'Czech Republic', 'India', 'Soviet Union',\n",
       "       'South Korea', 'Peru', 'Italy', 'Russia', 'Aruba', 'Denmark',\n",
       "       'Libya', 'Ireland', 'South Africa', 'Iceland', 'Switzerland',\n",
       "       'Romania', 'West Germany', 'Chile', 'Netherlands', 'Hungary',\n",
       "       'Panama', 'Greece', 'Sweden', 'Norway', 'Taiwan', 'Official site',\n",
       "       'Cambodia', 'Thailand', 'Slovakia', 'Bulgaria', 'Iran', 'Poland',\n",
       "       'Georgia', 'Turkey', 'Nigeria', 'Brazil', 'Finland', 'Bahamas',\n",
       "       'Argentina', 'Colombia', 'Israel', 'Egypt', 'Kyrgyzstan',\n",
       "       'Indonesia', 'Pakistan', 'Slovenia', 'Afghanistan',\n",
       "       'Dominican Republic', 'Cameroon', 'United Arab Emirates', 'Kenya',\n",
       "       'Philippines'], dtype=object)"
      ]
     },
     "execution_count": 78,
     "metadata": {},
     "output_type": "execute_result"
    }
   ],
   "source": [
    "datas_raw.country.unique()"
   ]
  },
  {
   "cell_type": "markdown",
   "metadata": {},
   "source": [
    "> 3 valeurs spéciales : \n",
    "> - 'Official site' : erreur à modifier en mettant USA (cf lien)\n",
    "> - 'Soviet Union' : à remplacer par \"Russia\"\n",
    "> - 'West Germany' : à remplacer par 'Germany'"
   ]
  },
  {
   "cell_type": "code",
   "execution_count": 79,
   "metadata": {},
   "outputs": [
    {
     "data": {
      "text/html": [
       "<div>\n",
       "<style scoped>\n",
       "    .dataframe tbody tr th:only-of-type {\n",
       "        vertical-align: middle;\n",
       "    }\n",
       "\n",
       "    .dataframe tbody tr th {\n",
       "        vertical-align: top;\n",
       "    }\n",
       "\n",
       "    .dataframe thead th {\n",
       "        text-align: right;\n",
       "    }\n",
       "</style>\n",
       "<table border=\"1\" class=\"dataframe\">\n",
       "  <thead>\n",
       "    <tr style=\"text-align: right;\">\n",
       "      <th></th>\n",
       "      <th>id</th>\n",
       "      <th>movie_title</th>\n",
       "      <th>title_year</th>\n",
       "      <th>imdb_score</th>\n",
       "      <th>content_rating</th>\n",
       "      <th>duration</th>\n",
       "      <th>aspect_ratio</th>\n",
       "      <th>color</th>\n",
       "      <th>movie_imdb_link</th>\n",
       "      <th>budget</th>\n",
       "      <th>...</th>\n",
       "      <th>acteur_Fisher Stevens</th>\n",
       "      <th>acteur_Nia Long</th>\n",
       "      <th>acteur_Michael Jai White</th>\n",
       "      <th>acteur_Aidan Quinn</th>\n",
       "      <th>acteur_Lin Shaye</th>\n",
       "      <th>acteur_Paul Sorvino</th>\n",
       "      <th>acteur_Beverly D'Angelo</th>\n",
       "      <th>acteur_Hope Davis</th>\n",
       "      <th>acteur_Bruce Dern</th>\n",
       "      <th>age_limite</th>\n",
       "    </tr>\n",
       "  </thead>\n",
       "  <tbody>\n",
       "    <tr>\n",
       "      <th>2675</th>\n",
       "      <td>1555064</td>\n",
       "      <td>Country Strong</td>\n",
       "      <td>2010.0</td>\n",
       "      <td>6.3</td>\n",
       "      <td>PG-13</td>\n",
       "      <td>117.0</td>\n",
       "      <td>2.35</td>\n",
       "      <td>Color</td>\n",
       "      <td>http://www.imdb.com/title/tt1555064/?ref_=fn_t...</td>\n",
       "      <td>15000000.0</td>\n",
       "      <td>...</td>\n",
       "      <td>False</td>\n",
       "      <td>False</td>\n",
       "      <td>False</td>\n",
       "      <td>False</td>\n",
       "      <td>False</td>\n",
       "      <td>False</td>\n",
       "      <td>False</td>\n",
       "      <td>False</td>\n",
       "      <td>False</td>\n",
       "      <td>14</td>\n",
       "    </tr>\n",
       "  </tbody>\n",
       "</table>\n",
       "<p>1 rows × 823 columns</p>\n",
       "</div>"
      ],
      "text/plain": [
       "           id     movie_title  title_year  imdb_score content_rating  \\\n",
       "2675  1555064  Country Strong      2010.0         6.3          PG-13   \n",
       "\n",
       "      duration  aspect_ratio  color  \\\n",
       "2675     117.0          2.35  Color   \n",
       "\n",
       "                                        movie_imdb_link      budget  \\\n",
       "2675  http://www.imdb.com/title/tt1555064/?ref_=fn_t...  15000000.0   \n",
       "\n",
       "        ...      acteur_Fisher Stevens acteur_Nia Long  \\\n",
       "2675    ...                      False           False   \n",
       "\n",
       "     acteur_Michael Jai White  acteur_Aidan Quinn acteur_Lin Shaye  \\\n",
       "2675                    False               False            False   \n",
       "\n",
       "     acteur_Paul Sorvino  acteur_Beverly D'Angelo  acteur_Hope Davis  \\\n",
       "2675               False                    False              False   \n",
       "\n",
       "      acteur_Bruce Dern age_limite  \n",
       "2675              False         14  \n",
       "\n",
       "[1 rows x 823 columns]"
      ]
     },
     "execution_count": 79,
     "metadata": {},
     "output_type": "execute_result"
    }
   ],
   "source": [
    "datas_raw[datas_raw['country']=='Official site']"
   ]
  },
  {
   "cell_type": "code",
   "execution_count": 80,
   "metadata": {},
   "outputs": [],
   "source": [
    "datas_raw.loc[2675, 'country'] = 'USA'\n",
    "datas_raw.loc[1061, 'country'] = 'Russia'\n",
    "\n",
    "datas_raw.loc[[1815, 2970, 4335], 'country'] = 'Germany'"
   ]
  },
  {
   "cell_type": "markdown",
   "metadata": {},
   "source": [
    "## Histogramme des répartitions"
   ]
  },
  {
   "cell_type": "code",
   "execution_count": 81,
   "metadata": {},
   "outputs": [
    {
     "data": {
      "text/html": [
       "<div>\n",
       "<style scoped>\n",
       "    .dataframe tbody tr th:only-of-type {\n",
       "        vertical-align: middle;\n",
       "    }\n",
       "\n",
       "    .dataframe tbody tr th {\n",
       "        vertical-align: top;\n",
       "    }\n",
       "\n",
       "    .dataframe thead th {\n",
       "        text-align: right;\n",
       "    }\n",
       "</style>\n",
       "<table border=\"1\" class=\"dataframe\">\n",
       "  <thead>\n",
       "    <tr style=\"text-align: right;\">\n",
       "      <th></th>\n",
       "      <th>freq</th>\n",
       "    </tr>\n",
       "  </thead>\n",
       "  <tbody>\n",
       "    <tr>\n",
       "      <th>USA</th>\n",
       "      <td>0.755641</td>\n",
       "    </tr>\n",
       "    <tr>\n",
       "      <th>UK</th>\n",
       "      <td>0.088229</td>\n",
       "    </tr>\n",
       "    <tr>\n",
       "      <th>*** autres ***</th>\n",
       "      <td>0.049807</td>\n",
       "    </tr>\n",
       "    <tr>\n",
       "      <th>France</th>\n",
       "      <td>0.031307</td>\n",
       "    </tr>\n",
       "    <tr>\n",
       "      <th>Canada</th>\n",
       "      <td>0.025208</td>\n",
       "    </tr>\n",
       "    <tr>\n",
       "      <th>Germany</th>\n",
       "      <td>0.019719</td>\n",
       "    </tr>\n",
       "    <tr>\n",
       "      <th>Australia</th>\n",
       "      <td>0.010775</td>\n",
       "    </tr>\n",
       "    <tr>\n",
       "      <th>India</th>\n",
       "      <td>0.006912</td>\n",
       "    </tr>\n",
       "    <tr>\n",
       "      <th>Spain</th>\n",
       "      <td>0.006709</td>\n",
       "    </tr>\n",
       "    <tr>\n",
       "      <th>China</th>\n",
       "      <td>0.005692</td>\n",
       "    </tr>\n",
       "  </tbody>\n",
       "</table>\n",
       "</div>"
      ],
      "text/plain": [
       "                    freq\n",
       "USA             0.755641\n",
       "UK              0.088229\n",
       "*** autres ***  0.049807\n",
       "France          0.031307\n",
       "Canada          0.025208\n",
       "Germany         0.019719\n",
       "Australia       0.010775\n",
       "India           0.006912\n",
       "Spain           0.006709\n",
       "China           0.005692"
      ]
     },
     "execution_count": 81,
     "metadata": {},
     "output_type": "execute_result"
    }
   ],
   "source": [
    "u = datas_raw.country.value_counts(normalize=True)\n",
    "\n",
    "uu = u.groupby(\n",
    "        np.where(u.values<0.005,'*** autres ***',u.index))\\\n",
    "        .agg(['sum'])\\\n",
    "        .rename(columns={'sum':'freq'},inplace=False)\n",
    "uu.sort_values('freq',ascending=False,inplace=True)\n",
    "uu"
   ]
  },
  {
   "cell_type": "code",
   "execution_count": 82,
   "metadata": {},
   "outputs": [
    {
     "data": {
      "text/plain": [
       "<Figure size 900x600 with 0 Axes>"
      ]
     },
     "metadata": {},
     "output_type": "display_data"
    },
    {
     "data": {
      "image/png": "[encoded data removed]",
      "text/plain": [
       "<Figure size 864x864 with 1 Axes>"
      ]
     },
     "metadata": {},
     "output_type": "display_data"
    }
   ],
   "source": [
    "from matplotlib import cm\n",
    "\n",
    "explode = tuple([0 if idx!='France' else 0.1 for idx in uu.index])\n",
    "\n",
    "def change_label(values):\n",
    "    res = [i for i in values]\n",
    "    return res\n",
    "\n",
    "cs=cm.Set3(np.arange(len(uu.index)+0.0)/(len(uu.index)+0.0))\n",
    "\n",
    "def make_autopct(values):\n",
    "    def my_autopct(pct):\n",
    "        total = sum(values)\n",
    "        val = int(round(pct*total/1.0))\n",
    "        return '{p:.2f}%'.format(p=pct,v=val)\n",
    "    return my_autopct\n",
    "\n",
    "fig = plt.figure(dpi=150)\n",
    "\n",
    "uu.plot(kind='pie',x='index',y='freq',\\\n",
    "        explode=explode,\\\n",
    "        legend=True,\\\n",
    "        autopct=make_autopct(uu.freq),\\\n",
    "        #figsize=(12,12),\\\n",
    "        figsize=(12,12),\\\n",
    "        labels=change_label(uu.index),\n",
    "        #startangle=90,\n",
    "        colors=cs,\n",
    "        #colors=colors2,\n",
    "        #colormap=plt.cm.Set2,\n",
    "        shadow  = False,\n",
    "        frame   = False,\n",
    "        labeldistance=1.05,\n",
    "        pctdistance=0.95,\n",
    "        #legendsdistance=1.05\n",
    "       )\n",
    "\n",
    "# 8 - On uniformise les proportions x / y\n",
    "plt.title('Répartition des films par pays')\n",
    "plt.axis('equal')\n",
    "plt.savefig('Repartition_par_pays.png')\n",
    "plt.show()"
   ]
  },
  {
   "cell_type": "markdown",
   "metadata": {},
   "source": [
    "# Langues"
   ]
  },
  {
   "cell_type": "code",
   "execution_count": 83,
   "metadata": {},
   "outputs": [
    {
     "data": {
      "text/html": [
       "<div>\n",
       "<style scoped>\n",
       "    .dataframe tbody tr th:only-of-type {\n",
       "        vertical-align: middle;\n",
       "    }\n",
       "\n",
       "    .dataframe tbody tr th {\n",
       "        vertical-align: top;\n",
       "    }\n",
       "\n",
       "    .dataframe thead th {\n",
       "        text-align: right;\n",
       "    }\n",
       "</style>\n",
       "<table border=\"1\" class=\"dataframe\">\n",
       "  <thead>\n",
       "    <tr style=\"text-align: right;\">\n",
       "      <th></th>\n",
       "      <th>movie_title</th>\n",
       "      <th>country</th>\n",
       "    </tr>\n",
       "  </thead>\n",
       "  <tbody>\n",
       "    <tr>\n",
       "      <th>4</th>\n",
       "      <td>Star Wars: Episode VII - The Force Awakens    ...</td>\n",
       "      <td>USA</td>\n",
       "    </tr>\n",
       "    <tr>\n",
       "      <th>279</th>\n",
       "      <td>10,000 B.C.</td>\n",
       "      <td>USA</td>\n",
       "    </tr>\n",
       "    <tr>\n",
       "      <th>2459</th>\n",
       "      <td>Unforgettable</td>\n",
       "      <td>USA</td>\n",
       "    </tr>\n",
       "    <tr>\n",
       "      <th>3086</th>\n",
       "      <td>September Dawn</td>\n",
       "      <td>USA</td>\n",
       "    </tr>\n",
       "    <tr>\n",
       "      <th>3539</th>\n",
       "      <td>Alpha and Omega 4: The Legend of the Saw Tooth...</td>\n",
       "      <td>USA</td>\n",
       "    </tr>\n",
       "    <tr>\n",
       "      <th>3869</th>\n",
       "      <td>Silent Movie</td>\n",
       "      <td>USA</td>\n",
       "    </tr>\n",
       "    <tr>\n",
       "      <th>4110</th>\n",
       "      <td>Love's Abiding Joy</td>\n",
       "      <td>USA</td>\n",
       "    </tr>\n",
       "    <tr>\n",
       "      <th>4409</th>\n",
       "      <td>Kickboxer: Vengeance</td>\n",
       "      <td>USA</td>\n",
       "    </tr>\n",
       "    <tr>\n",
       "      <th>4630</th>\n",
       "      <td>A Fine Step</td>\n",
       "      <td>USA</td>\n",
       "    </tr>\n",
       "    <tr>\n",
       "      <th>4810</th>\n",
       "      <td>Intolerance: Love's Struggle Throughout the Ages</td>\n",
       "      <td>USA</td>\n",
       "    </tr>\n",
       "    <tr>\n",
       "      <th>4885</th>\n",
       "      <td>The Big Parade</td>\n",
       "      <td>USA</td>\n",
       "    </tr>\n",
       "    <tr>\n",
       "      <th>4958</th>\n",
       "      <td>Over the Hill to the Poorhouse</td>\n",
       "      <td>USA</td>\n",
       "    </tr>\n",
       "  </tbody>\n",
       "</table>\n",
       "</div>"
      ],
      "text/plain": [
       "                                            movie_title country\n",
       "4     Star Wars: Episode VII - The Force Awakens    ...     USA\n",
       "279                             10,000 B.C.                 USA\n",
       "2459                          Unforgettable                 USA\n",
       "3086                                     September Dawn     USA\n",
       "3539  Alpha and Omega 4: The Legend of the Saw Tooth...     USA\n",
       "3869                                       Silent Movie     USA\n",
       "4110                                 Love's Abiding Joy     USA\n",
       "4409                               Kickboxer: Vengeance     USA\n",
       "4630                                        A Fine Step     USA\n",
       "4810   Intolerance: Love's Struggle Throughout the Ages     USA\n",
       "4885                                     The Big Parade     USA\n",
       "4958                     Over the Hill to the Poorhouse     USA"
      ]
     },
     "execution_count": 83,
     "metadata": {},
     "output_type": "execute_result"
    }
   ],
   "source": [
    "datas_raw[(datas_raw.language.isnull())][['movie_title','country']]"
   ]
  },
  {
   "cell_type": "markdown",
   "metadata": {},
   "source": [
    "> Par facilité on va mettre la lanque anglaise"
   ]
  },
  {
   "cell_type": "code",
   "execution_count": 84,
   "metadata": {},
   "outputs": [],
   "source": [
    "idx = datas_raw[(datas_raw.language.isnull())].index\n",
    "datas_raw.loc[idx, 'language'] = 'English'"
   ]
  },
  {
   "cell_type": "code",
   "execution_count": 85,
   "metadata": {},
   "outputs": [
    {
     "data": {
      "text/plain": [
       "array(['English', 'Japanese', 'French', 'Mandarin', 'Aboriginal',\n",
       "       'Spanish', 'Filipino', 'Hindi', 'Russian', 'Maya', 'Kazakh',\n",
       "       'Telugu', 'Cantonese', 'Icelandic', 'German', 'Aramaic', 'Italian',\n",
       "       'Dutch', 'Dari', 'Hebrew', 'Chinese', 'Mongolian', 'Swedish',\n",
       "       'Korean', 'Thai', 'Polish', 'Bosnian', 'None', 'Hungarian',\n",
       "       'Portuguese', 'Danish', 'Arabic', 'Norwegian', 'Czech', 'Kannada',\n",
       "       'Zulu', 'Panjabi', 'Tamil', 'Dzongkha', 'Vietnamese', 'Indonesian',\n",
       "       'Urdu', 'Romanian', 'Persian', 'Slovenian', 'Greek', 'Swahili'],\n",
       "      dtype=object)"
      ]
     },
     "execution_count": 85,
     "metadata": {},
     "output_type": "execute_result"
    }
   ],
   "source": [
    "datas_raw.language.unique()"
   ]
  },
  {
   "cell_type": "markdown",
   "metadata": {},
   "source": [
    "## Histogramme des répartitions"
   ]
  },
  {
   "cell_type": "code",
   "execution_count": 86,
   "metadata": {},
   "outputs": [
    {
     "data": {
      "text/html": [
       "<div>\n",
       "<style scoped>\n",
       "    .dataframe tbody tr th:only-of-type {\n",
       "        vertical-align: middle;\n",
       "    }\n",
       "\n",
       "    .dataframe tbody tr th {\n",
       "        vertical-align: top;\n",
       "    }\n",
       "\n",
       "    .dataframe thead th {\n",
       "        text-align: right;\n",
       "    }\n",
       "</style>\n",
       "<table border=\"1\" class=\"dataframe\">\n",
       "  <thead>\n",
       "    <tr style=\"text-align: right;\">\n",
       "      <th></th>\n",
       "      <th>freq</th>\n",
       "    </tr>\n",
       "  </thead>\n",
       "  <tbody>\n",
       "    <tr>\n",
       "      <th>English</th>\n",
       "      <td>0.934336</td>\n",
       "    </tr>\n",
       "    <tr>\n",
       "      <th>*** autres ***</th>\n",
       "      <td>0.036999</td>\n",
       "    </tr>\n",
       "    <tr>\n",
       "      <th>French</th>\n",
       "      <td>0.014840</td>\n",
       "    </tr>\n",
       "    <tr>\n",
       "      <th>Spanish</th>\n",
       "      <td>0.008132</td>\n",
       "    </tr>\n",
       "    <tr>\n",
       "      <th>Hindi</th>\n",
       "      <td>0.005692</td>\n",
       "    </tr>\n",
       "  </tbody>\n",
       "</table>\n",
       "</div>"
      ],
      "text/plain": [
       "                    freq\n",
       "English         0.934336\n",
       "*** autres ***  0.036999\n",
       "French          0.014840\n",
       "Spanish         0.008132\n",
       "Hindi           0.005692"
      ]
     },
     "execution_count": 86,
     "metadata": {},
     "output_type": "execute_result"
    }
   ],
   "source": [
    "u = datas_raw.language.value_counts(normalize=True)\n",
    "\n",
    "uu = u.groupby(\n",
    "        np.where(u.values<0.005,'*** autres ***',u.index))\\\n",
    "        .agg(['sum'])\\\n",
    "        .rename(columns={'sum':'freq'},inplace=False)\n",
    "uu.sort_values('freq',ascending=False,inplace=True)\n",
    "uu"
   ]
  },
  {
   "cell_type": "code",
   "execution_count": 87,
   "metadata": {},
   "outputs": [
    {
     "data": {
      "text/plain": [
       "<Figure size 900x600 with 0 Axes>"
      ]
     },
     "metadata": {},
     "output_type": "display_data"
    },
    {
     "data": {
      "image/png": "[encoded data removed]",
      "text/plain": [
       "<Figure size 864x864 with 1 Axes>"
      ]
     },
     "metadata": {},
     "output_type": "display_data"
    }
   ],
   "source": [
    "from matplotlib import cm\n",
    "\n",
    "explode = tuple([0 if idx!='France' else 0.1 for idx in uu.index])\n",
    "\n",
    "def change_label(values):\n",
    "    res = [i for i in values]\n",
    "    return res\n",
    "\n",
    "cs=cm.Set3(np.arange(len(uu.index)+0.0)/(len(uu.index)+0.0))\n",
    "\n",
    "def make_autopct(values):\n",
    "    def my_autopct(pct):\n",
    "        total = sum(values)\n",
    "        val = int(round(pct*total/1.0))\n",
    "        return '{p:.2f}%'.format(p=pct,v=val)\n",
    "    return my_autopct\n",
    "\n",
    "fig = plt.figure(dpi=150)\n",
    "\n",
    "uu.plot(kind='pie',x='index',y='freq',\\\n",
    "        explode=explode,\\\n",
    "        legend=True,\\\n",
    "        autopct=make_autopct(uu.freq),\\\n",
    "        #figsize=(12,12),\\\n",
    "        figsize=(12,12),\\\n",
    "        labels=change_label(uu.index),\n",
    "        #startangle=90,\n",
    "        colors=cs,\n",
    "        #colors=colors2,\n",
    "        #colormap=plt.cm.Set2,\n",
    "        shadow  = False,\n",
    "        frame   = False,\n",
    "        labeldistance=1.05,\n",
    "        pctdistance=0.95,\n",
    "        #legendsdistance=1.05\n",
    "       )\n",
    "\n",
    "# 8 - On uniformise les proportions x / y\n",
    "plt.title('Répartition des films par Langue')\n",
    "plt.axis('equal')\n",
    "plt.savefig('Repartition_par_langue.png')\n",
    "plt.show()"
   ]
  },
  {
   "cell_type": "code",
   "execution_count": 88,
   "metadata": {},
   "outputs": [],
   "source": [
    "nb_mots_clef_max = 1000\n",
    "country = most_common_words(datas_raw['country'],nb_mot_affichage=100, return_values=True, affiche=False)\n",
    "country = country.most_common(nb_mots_clef_max)\n",
    "country = [i[0] for i in country]\n",
    "\n",
    "# On ajoute les features de director_name\n",
    "for name in country:\n",
    "    my_liste_mot = []\n",
    "    my_liste_mot.append(name)\n",
    "    datas_raw['country_'+name] = datas_raw['country'].apply(is_something, liste_mots=my_liste_mot)"
   ]
  },
  {
   "cell_type": "code",
   "execution_count": 89,
   "metadata": {},
   "outputs": [],
   "source": [
    "nb_mots_clef_max = 1000\n",
    "language = most_common_words(datas_raw['language'],nb_mot_affichage=100, return_values=True, affiche=False)\n",
    "language = language.most_common(nb_mots_clef_max)\n",
    "language = [i[0] for i in language]\n",
    "\n",
    "# On ajoute les features de director_name\n",
    "for name in language:\n",
    "    my_liste_mot = []\n",
    "    my_liste_mot.append(name)\n",
    "    datas_raw['language_'+name] = datas_raw['language'].apply(is_something, liste_mots=my_liste_mot)"
   ]
  },
  {
   "cell_type": "code",
   "execution_count": null,
   "metadata": {},
   "outputs": [],
   "source": []
  },
  {
   "cell_type": "code",
   "execution_count": null,
   "metadata": {},
   "outputs": [],
   "source": []
  },
  {
   "cell_type": "markdown",
   "metadata": {},
   "source": [
    "## Noir & Blanc \n",
    "> Répartition avec grande majorité de Couleur \n",
    ">\n",
    "> Il manque 19 films non renseignés\n",
    "> \n",
    "> Après analyse (il n'y a que 19 films), nous pouvons mettre à Couleurs\n",
    "> les valeurs manquantes\n",
    "> On en profite pour retirer l'espace dans la valeur \" Black and White\""
   ]
  },
  {
   "cell_type": "code",
   "execution_count": 90,
   "metadata": {},
   "outputs": [],
   "source": [
    "datas_raw.loc[datas_raw.color.isnull(),'color'] = 'Color'\n",
    "datas_raw.loc[datas_raw['color']==' Black and White','color'] = 'Black and White'"
   ]
  },
  {
   "cell_type": "code",
   "execution_count": 91,
   "metadata": {},
   "outputs": [
    {
     "data": {
      "text/plain": [
       "color\n",
       "Black and White     204\n",
       "Color              4715\n",
       "dtype: int64"
      ]
     },
     "execution_count": 91,
     "metadata": {},
     "output_type": "execute_result"
    }
   ],
   "source": [
    "# On analyse la répartition Noir & Blanc / Couleur \n",
    "u = datas_raw[datas_raw.color.notnull()]\n",
    "datas_raw.groupby(['color']).size()"
   ]
  },
  {
   "cell_type": "code",
   "execution_count": 92,
   "metadata": {},
   "outputs": [],
   "source": [
    "datas_raw['black_and_white'] = datas_raw['color'].apply(is_something, liste_mots=['Black and White'])"
   ]
  },
  {
   "cell_type": "markdown",
   "metadata": {},
   "source": [
    "# Répartition des score imdb"
   ]
  },
  {
   "cell_type": "code",
   "execution_count": null,
   "metadata": {},
   "outputs": [],
   "source": []
  },
  {
   "cell_type": "code",
   "execution_count": 93,
   "metadata": {},
   "outputs": [
    {
     "data": {
      "image/png": "[encoded data removed]",
      "text/plain": [
       "<Figure size 432x288 with 1 Axes>"
      ]
     },
     "metadata": {},
     "output_type": "display_data"
    }
   ],
   "source": [
    "u = datas_raw['imdb_score']\n",
    "\n",
    "plt.xlabel('Score Imdb')\n",
    "plt.title('Répartition des Score Imdb')\n",
    "u.hist()\n",
    "plt.show()"
   ]
  },
  {
   "cell_type": "markdown",
   "metadata": {},
   "source": [
    "## Répartition par années"
   ]
  },
  {
   "cell_type": "code",
   "execution_count": 94,
   "metadata": {},
   "outputs": [
    {
     "data": {
      "image/png": "[encoded data removed]",
      "text/plain": [
       "<Figure size 720x360 with 2 Axes>"
      ]
     },
     "metadata": {},
     "output_type": "display_data"
    }
   ],
   "source": [
    "# Après 1980 \n",
    "u1 = datas_raw[datas_raw['title_year']<1980]['title_year']\n",
    "u2 = datas_raw[datas_raw['title_year']>1980]['title_year']\n",
    "\n",
    "\n",
    "\n",
    "#fig = plt.figure(figsize=(10,5), dpi = 150 )\n",
    "fig = plt.figure(figsize=(10,5))\n",
    "\n",
    "plt.subplot(1,2,1)\n",
    "plt.title(\"Répartition des Films par année avant 1980\")\n",
    "u1.hist()\n",
    "\n",
    "plt.subplot(1,2,2)\n",
    "plt.title(\"Répartition des Films par année après 1980\")\n",
    "u2.hist()\n",
    "\n",
    "plt.show()"
   ]
  },
  {
   "cell_type": "code",
   "execution_count": null,
   "metadata": {},
   "outputs": [],
   "source": []
  },
  {
   "cell_type": "markdown",
   "metadata": {},
   "source": [
    "# Ajout de l'audience \n",
    "> Donne l'information sur les revenus du films (donc l'audience)"
   ]
  },
  {
   "cell_type": "code",
   "execution_count": 95,
   "metadata": {},
   "outputs": [],
   "source": [
    "def audience():\n",
    "    u1 = datas_raw['gross']\n",
    "    desc = u1.describe()\n",
    "    q1 = desc.get('25%')    \n",
    "    q2 = desc.get('50%')\n",
    "    q3 = desc.get('75%')\n",
    "    res_audience = []\n",
    "    for i in u1:\n",
    "        if np.isnan(i):\n",
    "            res_audience.append(i)\n",
    "            continue\n",
    "        if i<q1:\n",
    "            res_audience.append('intime')\n",
    "        elif i<q2:\n",
    "            res_audience.append('moyen-')\n",
    "        elif i<q3:\n",
    "            res_audience.append('moyen+')\n",
    "        else:\n",
    "            res_audience.append('populaire')\n",
    "    datas_raw['audience']=pd.Series(res_audience)\n",
    "\n",
    "audience()"
   ]
  },
  {
   "cell_type": "markdown",
   "metadata": {},
   "source": [
    "# Sauvegarde du fichier nettoyé"
   ]
  },
  {
   "cell_type": "code",
   "execution_count": 96,
   "metadata": {},
   "outputs": [],
   "source": [
    "datas_raw.to_csv('movie_metadata_nettoye_1.csv', index=False)"
   ]
  },
  {
   "cell_type": "code",
   "execution_count": null,
   "metadata": {},
   "outputs": [],
   "source": []
  },
  {
   "cell_type": "code",
   "execution_count": 97,
   "metadata": {},
   "outputs": [
    {
     "data": {
      "image/png": "[encoded data removed]",
      "text/plain": [
       "<Figure size 720x360 with 1 Axes>"
      ]
     },
     "metadata": {},
     "output_type": "display_data"
    }
   ],
   "source": [
    "u1 = datas_raw['age_limite']\n",
    "\n",
    "fig = plt.figure(figsize=(10,5))\n",
    "\n",
    "#plt.subplot(1,2,1)\n",
    "plt.title(\"Répartition des Films par année avant 1980\")\n",
    "u1.hist()\n",
    "plt.show()"
   ]
  },
  {
   "cell_type": "code",
   "execution_count": null,
   "metadata": {},
   "outputs": [],
   "source": []
  }
 ],
 "metadata": {
  "kernelspec": {
   "display_name": "Python 3",
   "language": "python",
   "name": "python3"
  },
  "language_info": {
   "codemirror_mode": {
    "name": "ipython",
    "version": 3
   },
   "file_extension": ".py",
   "mimetype": "text/x-python",
   "name": "python",
   "nbconvert_exporter": "python",
   "pygments_lexer": "ipython3",
   "version": "3.6.5"
  }
 },
 "nbformat": 4,
 "nbformat_minor": 2
}
